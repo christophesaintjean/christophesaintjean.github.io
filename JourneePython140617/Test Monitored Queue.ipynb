{
 "cells": [
  {
   "cell_type": "code",
   "execution_count": 1,
   "metadata": {},
   "outputs": [],
   "source": [
    "from zmq.devices import ProcessProxy, MonitoredQueue\n",
    "from multiprocessing import Process\n",
    "import zmq, time, random \n"
   ]
  },
  {
   "cell_type": "code",
   "execution_count": 2,
   "metadata": {
    "collapsed": true
   },
   "outputs": [],
   "source": [
    "to_client = 6666\n",
    "to_server = 6667\n",
    "to_monitor = 6668\n",
    "number_of_clients = 3"
   ]
  },
  {
   "cell_type": "code",
   "execution_count": 3,
   "metadata": {},
   "outputs": [],
   "source": [
    "def server(backend_port):\n",
    "    print(\"Connecting a server to queue device\")\n",
    "    context = zmq.Context()\n",
    "    socket = context.socket(zmq.REP)\n",
    "    socket.connect(\"tcp://127.0.0.1:%s\" % backend_port)\n",
    "    server_id = random.randrange(1,10005)\n",
    "    while True:\n",
    "        print (\"while True\") \n",
    "        message = socket.recv()\n",
    "        print (\"Received request: \", message ) \n",
    "        socket.send_string(\"Response from %s\" % server_id)"
   ]
  },
  {
   "cell_type": "code",
   "execution_count": 4,
   "metadata": {
    "collapsed": true
   },
   "outputs": [],
   "source": [
    "def client(frontend_port, client_id):\n",
    "    print (\"Connecting a worker #%s to queue device\" % client_id)\n",
    "    context = zmq.Context()\n",
    "    socket = context.socket(zmq.REQ)\n",
    "    socket.connect(\"tcp://127.0.0.1:%s\" % frontend_port)\n",
    "    #  Do 10 requests, waiting each time for a response\n",
    "    for request in range (1,5):\n",
    "        print(\"Sending request #%s\" % request)\n",
    "        socket.send_string (\"Request fron client: %s\" % client_id)\n",
    "        #  Get the reply.\n",
    "        message = socket.recv()\n",
    "        print(\"Received reply \", request, \"[\", message, \"]\")"
   ]
  },
  {
   "cell_type": "code",
   "execution_count": 5,
   "metadata": {},
   "outputs": [],
   "source": [
    "def monitor(monitor_port):\n",
    "    print(\"Starting monitoring process\")\n",
    "    context = zmq.Context()\n",
    "    socket = context.socket(zmq.SUB)\n",
    "    print(\"Collecting updates from server...\")\n",
    "    socket.connect (\"tcp://127.0.0.1:%s\" % monitor_port)\n",
    "    #socket.setsockopt(zmq.SUBSCRIBE, \"\")\n",
    "    while True:\n",
    "        string = socket.recv()\n",
    "        print (\"Monitoring Client: %s\" % string)\n"
   ]
  },
  {
   "cell_type": "code",
   "execution_count": 6,
   "metadata": {
    "collapsed": true
   },
   "outputs": [],
   "source": [
    "def monitor_device(frontend_port, backend_port, monitor_port):\n",
    "    in_prefix  = b'in'\n",
    "    out_prefix = b'out'\n",
    "    device = MonitoredQueue(zmq.DEALER, zmq.ROUTER, zmq.PUB)\n",
    "    #queuedevice = ProcessProxy(zmq.DEALER, zmq.ROUTER)\n",
    "    device.bind_in('tcp://localhost:{}'.format(frontend_port))\n",
    "    device.bind_out('tcp://localhost:{}'.format(backend_port))\n",
    "    device.bind_mon('tcp://localhost:{}'.format(monitor_port))\n",
    "#queuedevice.setsockopt_in(zmq.RCVHWM, 4)\n",
    "#queuedevice.setsockopt_out(zmq.SNDHWM, 1)\n",
    "#queuedevice.bind_in('tcp://*:{}'.format(to_client))\n",
    "#queuedevice.connect_out('tcp://localhost:{}'.format(to_server))\n",
    "#queuedevice.setsockopt_in(zmq.IDENTITY, b'ROUTER')\n",
    "#queuedevice.setsockopt_out(zmq.IDENTITY, b'DEALER')\n",
    "    device.setsockopt_in(zmq.RCVHWM, 1)\n",
    "    device.setsockopt_out(zmq.SNDHWM, 1)\n",
    "    device.start()"
   ]
  },
  {
   "cell_type": "code",
   "execution_count": 10,
   "metadata": {},
   "outputs": [
    {
     "name": "stderr",
     "output_type": "stream",
     "text": [
      "Process Process-11:\n"
     ]
    },
    {
     "name": "stdout",
     "output_type": "stream",
     "text": [
      "Connecting a server to queue device\n"
     ]
    },
    {
     "name": "stderr",
     "output_type": "stream",
     "text": [
      "Traceback (most recent call last):\n"
     ]
    },
    {
     "name": "stdout",
     "output_type": "stream",
     "text": [
      "while True\n"
     ]
    },
    {
     "name": "stderr",
     "output_type": "stream",
     "text": [
      "  File \"/Users/csaintje/bin/anaconda3/lib/python3.5/multiprocessing/process.py\", line 249, in _bootstrap\n",
      "    self.run()\n",
      "  File \"/Users/csaintje/bin/anaconda3/lib/python3.5/multiprocessing/process.py\", line 93, in run\n",
      "    self._target(*self._args, **self._kwargs)\n"
     ]
    },
    {
     "name": "stdout",
     "output_type": "stream",
     "text": [
      "Starting monitoring process\n"
     ]
    },
    {
     "name": "stderr",
     "output_type": "stream",
     "text": [
      "  File \"<ipython-input-6-35165c3dd07c>\", line 17, in monitor_device\n",
      "    device.start()\n"
     ]
    },
    {
     "name": "stdout",
     "output_type": "stream",
     "text": [
      "Collecting updates from server...\n"
     ]
    },
    {
     "name": "stderr",
     "output_type": "stream",
     "text": [
      "  File \"/Users/csaintje/bin/anaconda3/lib/python3.5/site-packages/zmq/devices/basedevice.py\", line 182, in start\n",
      "    return self.run()\n",
      "  File \"/Users/csaintje/bin/anaconda3/lib/python3.5/site-packages/zmq/devices/basedevice.py\", line 170, in run\n",
      "    self.run_device()\n",
      "  File \"/Users/csaintje/bin/anaconda3/lib/python3.5/site-packages/zmq/devices/monitoredqueuedevice.py\", line 26, in run_device\n",
      "    ins,outs,mons = self._setup_sockets()\n",
      "  File \"/Users/csaintje/bin/anaconda3/lib/python3.5/site-packages/zmq/devices/proxydevice.py\", line 43, in _setup_sockets\n",
      "    ins,outs = Device._setup_sockets(self)\n",
      "  File \"/Users/csaintje/bin/anaconda3/lib/python3.5/site-packages/zmq/devices/basedevice.py\", line 148, in _setup_sockets\n",
      "    ins.bind(iface)\n",
      "  File \"zmq/backend/cython/socket.pyx\", line 495, in zmq.backend.cython.socket.Socket.bind (zmq/backend/cython/socket.c:5653)\n",
      "  File \"zmq/backend/cython/checkrc.pxd\", line 25, in zmq.backend.cython.checkrc._check_rc (zmq/backend/cython/socket.c:10014)\n",
      "zmq.error.ZMQError: Operation not supported by device\n"
     ]
    },
    {
     "name": "stdout",
     "output_type": "stream",
     "text": [
      "Connecting a worker #0 to queue device\n",
      "Sending request #1\n",
      "Connecting a worker #1 to queue device\n",
      "Sending request #1\n",
      "Connecting a worker #2 to queue device\n",
      "Sending request #1\n",
      "Received reply  1 [ b'Response from 5223' ]\n",
      "Sending request #2\n",
      "Received reply  2 [ b'Response from 5223' ]\n",
      "Sending request #3\n",
      "Received reply  1 [ b'Response from 5223' ]\n",
      "Sending request #2\n",
      "Received reply  3 [ b'Response from 5223' ]\n",
      "Sending request #4\n",
      "Received reply  2 [ b'Response from 5223' ]\n",
      "Sending request #3\n",
      "Received reply  4 [ b'Response from 5223' ]\n",
      "Received reply  3 [ b'Response from 5223' ]\n",
      "Sending request #4\n",
      "Received reply  4 [ b'Response from 5223' ]\n",
      "Received reply  1 [ b'Response from 5223' ]\n",
      "Sending request #2\n",
      "Received reply  2 [ b'Response from 5223' ]\n",
      "Sending request #3\n",
      "Received reply  3 [ b'Response from 5223' ]\n",
      "Sending request #4\n",
      "Received reply  4 [ b'Response from 5223' ]\n"
     ]
    }
   ],
   "source": [
    "p_device = Process(target=monitor_device, args=(to_client, to_server, to_monitor))\n",
    "p_device.start()\n",
    "\n",
    "p_server = Process(target=server, args=(to_server,))\n",
    "p_server.start() \n",
    "\n",
    "p_monitor = Process(target=monitor, args=(to_monitor,))\n",
    "p_monitor.start() \n",
    "\n",
    "time.sleep(2)\n",
    "for client_id in range(number_of_clients):\n",
    "    Process(target=client, args=(to_client, client_id,)).start()\n",
    "    \n",
    "time.sleep(10)\n",
    "p_server.terminate()\n",
    "p_monitor.terminate()\n",
    "p_device.terminate()"
   ]
  },
  {
   "cell_type": "code",
   "execution_count": null,
   "metadata": {
    "collapsed": true
   },
   "outputs": [],
   "source": []
  },
  {
   "cell_type": "code",
   "execution_count": null,
   "metadata": {
    "collapsed": true
   },
   "outputs": [],
   "source": []
  }
 ],
 "metadata": {
  "kernelspec": {
   "display_name": "Python 3",
   "language": "python",
   "name": "python3"
  },
  "language_info": {
   "codemirror_mode": {
    "name": "ipython",
    "version": 3
   },
   "file_extension": ".py",
   "mimetype": "text/x-python",
   "name": "python",
   "nbconvert_exporter": "python",
   "pygments_lexer": "ipython3",
   "version": "3.5.3"
  }
 },
 "nbformat": 4,
 "nbformat_minor": 2
}
