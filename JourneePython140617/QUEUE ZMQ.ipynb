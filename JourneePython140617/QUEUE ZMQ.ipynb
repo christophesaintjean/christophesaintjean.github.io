{
 "cells": [
  {
   "cell_type": "code",
   "execution_count": null,
   "metadata": {
    "collapsed": true
   },
   "outputs": [],
   "source": [
    "import zmq\n",
    "\n",
    "port_client, port_serveur = 6666, 6667\n",
    "context = zmq.Context(1)\n",
    "vers_clients = context.socket(zmq.XREP)\n",
    "vers_clients.bind('tcp://*:{}'.format(port_client))\n",
    "vers_serveurs = context.socket(zmq.XREQ)\n",
    "vers_serveurs.bind('tcp://*:{}'.format(port_serveur))\n",
    "zmq.device(zmq.QUEUE, vers_clients, vers_serveurs)"
   ]
  },
  {
   "cell_type": "code",
   "execution_count": null,
   "metadata": {
    "collapsed": true
   },
   "outputs": [],
   "source": []
  }
 ],
 "metadata": {
  "kernelspec": {
   "display_name": "Python 3",
   "language": "python",
   "name": "python3"
  },
  "language_info": {
   "codemirror_mode": {
    "name": "ipython",
    "version": 3
   },
   "file_extension": ".py",
   "mimetype": "text/x-python",
   "name": "python",
   "nbconvert_exporter": "python",
   "pygments_lexer": "ipython3",
   "version": "3.5.3"
  }
 },
 "nbformat": 4,
 "nbformat_minor": 2
}
