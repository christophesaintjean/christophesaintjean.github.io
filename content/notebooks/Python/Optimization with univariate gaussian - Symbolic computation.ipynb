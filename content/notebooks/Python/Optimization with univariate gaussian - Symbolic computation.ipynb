{
 "cells": [
  {
   "cell_type": "code",
   "execution_count": 2,
   "metadata": {
    "collapsed": false
   },
   "outputs": [
    {
     "name": "stdout",
     "output_type": "stream",
     "text": [
      "/Users/csaintje/Documents/Recherche/Python/Envs/scientific_3_5/bin/../lib/python3.5/site-packages\n"
     ]
    }
   ],
   "source": [
    "import site, os\n",
    "try:\n",
    "    print(site.getsitepackages())\n",
    "except:\n",
    "    print(os.path.dirname(site.__file__) + '/site-packages')"
   ]
  },
  {
   "cell_type": "code",
   "execution_count": 3,
   "metadata": {
    "collapsed": false
   },
   "outputs": [
    {
     "name": "stdout",
     "output_type": "stream",
     "text": [
      "module://ipykernel.pylab.backend_inline\n"
     ]
    }
   ],
   "source": [
    "import numpy as np\n",
    "import scipy.integrate as sci\n",
    "import scipy.optimize as sco\n",
    "import scipy.stats as scs\n",
    "from sympy import Function, Derivative, var, simplify, collect, expand, factor, Matrix\n",
    "from sympy.abc import x, y, z, t\n",
    "from sympy import diff, hessian, exp, log, pi, sqrt, lambdify, ask, Q, assuming\n",
    "import itertools as it\n",
    "import matplotlib\n",
    "%matplotlib inline\n",
    "#print (matplotlib.rcsetup.interactive_bk)\n",
    "#print (matplotlib.rcsetup.non_interactive_bk)\n",
    "#print (matplotlib.rcsetup.all_backends)\n",
    "print (matplotlib.get_backend())\n",
    "import matplotlib.pyplot as plt\n",
    "from IPython.core.display import display, HTML\n",
    "from joblib import Memory, Parallel, delayed, dump, load"
   ]
  },
  {
   "cell_type": "code",
   "execution_count": 10,
   "metadata": {
    "collapsed": false
   },
   "outputs": [],
   "source": [
    "import theano.tensor as T\n",
    "import theano"
   ]
  },
  {
   "cell_type": "markdown",
   "metadata": {},
   "source": [
    "Details for gaussian distribution as an exponential family"
   ]
  },
  {
   "cell_type": "code",
   "execution_count": 11,
   "metadata": {
    "collapsed": false
   },
   "outputs": [],
   "source": [
    "def lb2th(mu,sigma2):\n",
    "    return mu / sigma2, 0.5 / sigma2\n",
    "\n",
    "def lb2et(mu, sigma2):\n",
    "    return mu, -(mu**2+sigma2)\n",
    "\n",
    "def th2lb(th1,th2):\n",
    "    return 0.5*th1/th2, 0.5 / th2\n",
    "\n",
    "def th2et(th1,th2):\n",
    "    return 0.5*th1/th2, 0.5*(-0.5*th1**2/th2 - 1) / th2\n",
    "\n",
    "def et2lb(et1,et2):\n",
    "    return et1, -(et1**2+et2)\n",
    "\n",
    "def et2th(et1,et2):\n",
    "    return - et1 /(et1**2 + et2), -0.5 /(et1**2 + et2)\n",
    "\n",
    "def s_1(x):\n",
    "    return x\n",
    "\n",
    "def s_2(x):\n",
    "    return -x*x\n",
    "\n",
    "def F_1D(theta1,theta2):\n",
    "    return 0.25*theta1*theta1/theta2 + 0.5*np.log(np.pi) - 0.5*np.log(theta2) \n",
    "\n",
    "def gradF_1_1D(theta_1,theta_2):\n",
    "    return 0.5*theta_1/theta_2\n",
    "\n",
    "def gradF_2_1D(theta_1, theta_2):\n",
    "    temp_1 = 0.5 / theta_2\n",
    "    temp_2 = temp_1 * theta_1\n",
    "    return -1. * (temp_2 * temp_2 + temp_1)\n",
    "\n",
    "def gradF_1_nD(theta_1,theta_2):\n",
    "    return 0.5*np.dot(np.inv(theta_2), theta_1)\n",
    "\n",
    "def gradF_2_nD(theta_1, theta_2):\n",
    "    temp_1 = 0.5*np.inv(theta_2)\n",
    "    temp_2 = np.dot(temp1,theta_1)\n",
    "    return - np.outer(temp_2,temp_2) - temp_1\n",
    "\n",
    "def gradG_1_1D(eta_1,eta_2):\n",
    "    return eta1 / (-eta_1 * eta1 - eta2)\n",
    "\n",
    "def gradG_2_1D(eta_1,eta_2):\n",
    "    return 0.5  / (-eta_1 * eta1 - eta2)\n",
    "\n",
    "def gradG_1_nD(eta_1,eta_2):\n",
    "    return np.dot(np.inv(-np.outer(eta_1, eta1) - eta2), eta1)\n",
    "\n",
    "def gradG_2_nD(eta_1,eta_2):\n",
    "    return 0.5*np.inv(-np.outer(eta_1, eta1) - eta2)\n"
   ]
  },
  {
   "cell_type": "markdown",
   "metadata": {},
   "source": [
    "Cas 1D - Data"
   ]
  },
  {
   "cell_type": "code",
   "execution_count": 12,
   "metadata": {
    "collapsed": false
   },
   "outputs": [],
   "source": [
    "seed = 13\n",
    "np.random.seed(seed)\n",
    "N, batch_size = 20000*4, 100\n",
    "mu_true, sigma_true = 1, 2\n",
    "sigma2_true = sigma_true**2\n",
    "theta1_true, theta2_true = lb2th(mu_true, sigma2_true)\n",
    "eta1_true, eta2_true = lb2et(mu_true, sigma2_true)\n",
    "X = np.random.normal(mu_true,np.sqrt(sigma2_true), N)\n",
    "replicate = 100\n",
    "mu_0, sigma2_0 = 0, 5\n",
    "a_0 = 1 \n",
    "lb_init = [(mu, sigma2) for mu, sigma2 in \n",
    "           zip(np.random.normal(mu_0,np.sqrt(sigma2_0), replicate),\n",
    "               scs.invgamma.rvs(a_0, size=replicate))]\n",
    "th_init = [lb2th(mu, sigma2) for mu, sigma2 in lb_init]\n",
    "et_init = [lb2et(mu, sigma2) for mu, sigma2 in lb_init]\n",
    "#print(lb_init, th_init, et_init)\n",
    "def batches(Y, bs):\n",
    "    nb = np.int(np.ceil(len(Y) / bs))\n",
    "    Yb = [Y[i * bs : (i+1) * bs] for i in range(nb)]\n",
    "    def __temp(i):\n",
    "        return Yb[i]\n",
    "    return nb, Yb, __temp\n",
    "\n",
    "Xt = X[: N//4]\n",
    "Nt = len(Xt)\n",
    "NtB, XtB, XtB_f = batches(Xt, batch_size)\n",
    "Xv = X[N//4 : N//2]\n",
    "Nv = len(Xv)\n",
    "NvB, XvB, XvB_f = batches(Xv, batch_size)\n",
    "Xtest = X[N//2:]"
   ]
  },
  {
   "cell_type": "code",
   "execution_count": 13,
   "metadata": {
    "collapsed": false
   },
   "outputs": [],
   "source": [
    "def ll(x, mu, sigma2):\n",
    "    #assert(sigma2 > 0)\n",
    "    return -(x - mu)**2 /(2 * sigma2) - np.log(np.sqrt(2 * sigma2 * np.pi)) \n",
    "\n",
    "def ll_theta(x, theta1, theta2):\n",
    "    return s_1(x) * theta1 + s_2(x) * theta2 - F_1D(theta1, theta2)\n",
    "\n",
    "def ll_eta(x, eta1, eta2):\n",
    "    theta1 = - eta1 / (eta1*eta1 + eta2)\n",
    "    theta2 = - 0.5  / (eta1*eta1 + eta2)\n",
    "    return ll_theta(x, theta1, theta2)\n",
    "\n",
    "def kl(mu_1, s_1, mu_2, s_2):\n",
    "    if s_1 > 0 and s_2 > 0:\n",
    "        val = 0.5*(np.log(s_2/s_1) + (s_1/s_2) + ((mu_1 - mu_2)**2 / s_2)  - 1)\n",
    "    else:\n",
    "        val = -1.\n",
    "    return val\n",
    "    \n",
    "def ave_ll(mu, sigma2, chi):\n",
    "    return np.nanmean(ll(x, mu, sigma2) for x in chi)\n",
    "    \n",
    "def C_N(mu, sigma2, chi):\n",
    "    #assert(sigma2 > 0)\n",
    "    return -ave_ll(mu, sigma2, chi)\n",
    "\n",
    "np.testing.assert_allclose(ll(4, mu_true, sigma2_true),\n",
    "                          ll_theta(4, theta1_true, theta2_true))\n",
    "np.testing.assert_allclose(ll(4, mu_true, sigma2_true),\n",
    "                          ll_eta(4, eta1_true, eta2_true))"
   ]
  },
  {
   "cell_type": "markdown",
   "metadata": {},
   "source": [
    "# Calculs symboliques"
   ]
  },
  {
   "cell_type": "markdown",
   "metadata": {},
   "source": [
    "## Autour de F"
   ]
  },
  {
   "cell_type": "code",
   "execution_count": 14,
   "metadata": {
    "collapsed": false
   },
   "outputs": [
    {
     "name": "stdout",
     "output_type": "stream",
     "text": [
      "------F--------\n",
      "(theta1**2 - 2*theta2*log(theta2) + 2*theta2*log(pi))/(4*theta2)\n",
      "------Grad F*--------\n",
      "theta1/(2*theta2)\n",
      "-(theta1**2 + 2*theta2)/(4*theta2**2)\n",
      "----- Terms of hessian ---------\n",
      "H1,1 1/(2*theta2)\n",
      "H1,2 -theta1/(2*theta2**2)\n",
      "H2,1 -theta1/(2*theta2**2)\n",
      "H2,2 -1/(2*theta2**2) + (theta1**2 + 2*theta2)/(2*theta2**3)\n",
      "---- Hessian F ----------\n",
      "Matrix([\n",
      "[         1/(2*theta2),              -theta1/(2*theta2**2)],\n",
      "[-theta1/(2*theta2**2), (theta1**2 + theta2)/(2*theta2**3)]])\n"
     ]
    }
   ],
   "source": [
    "theta1, theta2 = var('theta1 theta2')\n",
    "F =  factor((theta1*theta1/(2*theta2) + log(pi) + - log(theta2))/2)\n",
    "print('------F--------')\n",
    "print(F)\n",
    "dF1 = diff(F, theta1)\n",
    "dF2 = factor(diff(F, theta2))\n",
    "print('------Grad F*--------')\n",
    "print (dF1)\n",
    "print (dF2)\n",
    "print('----- Terms of hessian ---------')\n",
    "dF11 = diff(dF1, theta1)\n",
    "dF12 = diff(dF1, theta2)\n",
    "dF21 = diff(dF2, theta1)\n",
    "dF22 = diff(dF2, theta2)\n",
    "print ('H1,1',dF11)\n",
    "print ('H1,2',dF12)\n",
    "print ('H2,1',dF21)\n",
    "print ('H2,2',dF22)\n",
    "print('---- Hessian F ----------')\n",
    "J = simplify(factor(expand(hessian(F, [theta1, theta2]))))\n",
    "print(J)"
   ]
  },
  {
   "cell_type": "markdown",
   "metadata": {},
   "source": [
    "## Autour de F*\n"
   ]
  },
  {
   "cell_type": "code",
   "execution_count": 161,
   "metadata": {
    "collapsed": false
   },
   "outputs": [
    {
     "name": "stdout",
     "output_type": "stream",
     "text": [
      "------F*--------\n",
      "-(log(-2*eta1**2 - 2*eta2) + 1 + log(pi))/2\n",
      "------Grad F*--------\n",
      "2*eta1/(-2*eta1**2 - 2*eta2)\n",
      "1/(-2*eta1**2 - 2*eta2)\n",
      "----- Terms of hessian---------\n",
      "H1,1 8*eta1**2/(-2*eta1**2 - 2*eta2)**2 + 2/(-2*eta1**2 - 2*eta2)\n",
      "H1,2 4*eta1/(-2*eta1**2 - 2*eta2)**2\n",
      "H2,1 4*eta1/(-2*eta1**2 - 2*eta2)**2\n",
      "H2,2 2/(-2*eta1**2 - 2*eta2)**2\n",
      "----Hessian F*----------\n",
      "Matrix([\n",
      "[(eta1**2 - eta2)/(eta1**2 + eta2)**2,  eta1/(eta1**2 + eta2)**2],\n",
      "[            eta1/(eta1**2 + eta2)**2, 1/(2*(eta1**2 + eta2)**2)]])\n",
      "---- conditionnnement----------\n",
      "Max(sqrt(-(eta1**2 + eta2)**2*(2*eta1**2 - 2*eta2 + 1)*sqrt(4*eta1**4 - 8*eta1**2*eta2 + 12*eta1**2 + 4*eta2**2 + 4*eta2 + 1)/(8*(eta1**12 + 6*eta1**10*eta2 + 15*eta1**8*eta2**2 + 20*eta1**6*eta2**3 + 15*eta1**4*eta2**4 + 6*eta1**2*eta2**5 + eta2**6)) + (4*eta1**4 - 8*eta1**2*eta2 + 8*eta1**2 + 4*eta2**2 + 1)/(8*(eta1**2 + eta2)**4)), sqrt((eta1**2 + eta2)**2*(2*eta1**2 - 2*eta2 + 1)*sqrt(4*eta1**4 - 8*eta1**2*eta2 + 12*eta1**2 + 4*eta2**2 + 4*eta2 + 1)/(8*(eta1**12 + 6*eta1**10*eta2 + 15*eta1**8*eta2**2 + 20*eta1**6*eta2**3 + 15*eta1**4*eta2**4 + 6*eta1**2*eta2**5 + eta2**6)) + (4*eta1**4 - 8*eta1**2*eta2 + 8*eta1**2 + 4*eta2**2 + 1)/(8*(eta1**2 + eta2)**4)))/Min(sqrt(-(eta1**2 + eta2)**2*(2*eta1**2 - 2*eta2 + 1)*sqrt(4*eta1**4 - 8*eta1**2*eta2 + 12*eta1**2 + 4*eta2**2 + 4*eta2 + 1)/(8*(eta1**12 + 6*eta1**10*eta2 + 15*eta1**8*eta2**2 + 20*eta1**6*eta2**3 + 15*eta1**4*eta2**4 + 6*eta1**2*eta2**5 + eta2**6)) + (4*eta1**4 - 8*eta1**2*eta2 + 8*eta1**2 + 4*eta2**2 + 1)/(8*(eta1**2 + eta2)**4)), sqrt((eta1**2 + eta2)**2*(2*eta1**2 - 2*eta2 + 1)*sqrt(4*eta1**4 - 8*eta1**2*eta2 + 12*eta1**2 + 4*eta2**2 + 4*eta2 + 1)/(8*(eta1**12 + 6*eta1**10*eta2 + 15*eta1**8*eta2**2 + 20*eta1**6*eta2**3 + 15*eta1**4*eta2**4 + 6*eta1**2*eta2**5 + eta2**6)) + (4*eta1**4 - 8*eta1**2*eta2 + 8*eta1**2 + 4*eta2**2 + 1)/(8*(eta1**2 + eta2)**4)))\n"
     ]
    }
   ],
   "source": [
    "eta1 = var('eta1', real = True)\n",
    "eta2 = var('eta2', real = True, negative= True)\n",
    "Fs =  factor(-(1 + log (pi) + log(2*(- eta1*eta1 - eta2))) / 2)\n",
    "print('------F*--------')\n",
    "print(Fs)\n",
    "dFs1 = diff(Fs, eta1)\n",
    "dFs2 = diff(Fs, eta2)\n",
    "print('------Grad F*--------')\n",
    "print (dFs1)\n",
    "print (dFs2)\n",
    "print('----- Terms of hessian---------')\n",
    "dFs11 = diff(dFs1, eta1)\n",
    "dFs12 = diff(dFs1, eta2)\n",
    "dFs21 = diff(dFs2, eta1)\n",
    "dFs22 = diff(dFs2, eta2)\n",
    "print ('H1,1',dFs11)\n",
    "print ('H1,2',dFs12)\n",
    "print ('H2,1',dFs21)\n",
    "print ('H2,2',dFs22)\n",
    "print('----Hessian F*----------')\n",
    "Js = simplify(factor(expand(hessian(Fs, [eta1, eta2]))))\n",
    "print(Js)\n",
    "print('---- conditionnnement----------')\n",
    "print(Js.condition_number())\n",
    "#eps = var('eps', real = True, positive = True)\n",
    "#Ieps = Matrix(2,2,[eps, 0,0, eps])\n",
    "#Jse = Js + Ieps\n",
    "#print(Jse.condition_number())\n",
    "#et1, et2 = lb2et(mus[166], sigma2s[170])\n",
    "#print(Js.subs([(eta1, et1), (eta2, et2)]).condition_number().evalf())"
   ]
  },
  {
   "cell_type": "code",
   "execution_count": 159,
   "metadata": {
    "collapsed": false
   },
   "outputs": [],
   "source": [
    "def cond_func (mu, s2):\n",
    "    et1, et2 = lb2et(mu, s2)\n",
    "    #print(et1, et2)\n",
    "    expr = Js.subs([(eta1, et1), (eta2, et2)])\n",
    "    expr = np.array(expr.tolist()).astype(np.float64)\n",
    "    #print(expr)\n",
    "    expr = np.linalg.cond(expr)\n",
    "    #expr = expr.subs([(eta1, et1), (eta2, et2)])\n",
    "    #expr = expr.subs([(eta1, et1), (eta2, et2), (eps, 1e-6)])\n",
    "    return expr\n",
    "\n",
    "#lambdify((eta1,eta2), Js.condition_number(), \"numpy\")\n",
    "# Make 2D permutation list with K=0~10 and L=0~10:\n",
    "mu_min, mu_max, s_min, s_max, n = -100, 100, 1e-6, 100, 201\n",
    "mus = np.linspace(mu_min, mu_max, n)\n",
    "sigma2s = np.linspace(s_min, s_max, n)\n",
    "X, Y = np.meshgrid(mus, sigma2s)\n",
    "Z = [[cond_func(mu, sigma2) for mu in mus] for sigma2 in sigma2s]\n",
    "Z = np.array(Z)"
   ]
  },
  {
   "cell_type": "code",
   "execution_count": 160,
   "metadata": {
    "collapsed": false
   },
   "outputs": [
    {
     "data": {
      "text/plain": [
       "<matplotlib.colorbar.Colorbar at 0x17ed31860>"
      ]
     },
     "execution_count": 160,
     "metadata": {},
     "output_type": "execute_result"
    },
    {
     "name": "stderr",
     "output_type": "stream",
     "text": [
      "/Users/csaintje/Documents/Recherche/Python/Envs/scientific_3_5/lib/python3.5/site-packages/matplotlib/collections.py:590: FutureWarning: elementwise comparison failed; returning scalar instead, but in the future will perform elementwise comparison\n",
      "  if self._edgecolors == str('face'):\n"
     ]
    },
    {
     "data": {
      "image/png": "[encoded data removed]",
      "text/plain": [
       "<matplotlib.figure.Figure at 0x1594f1fd0>"
      ]
     },
     "metadata": {},
     "output_type": "display_data"
    }
   ],
   "source": [
    "plt.imshow(np.log(1+Z), #, interpolation=\"bicubic\",\n",
    "           origin=\"lower\", extent=[mu_min, mu_max, s_min, s_max])\n",
    "#plt.contour(X, Y, Z, cmap='RdBu')\n",
    "#plt.xticks(np.arange(-100,100,20))\n",
    "#plt.yticks(np.arange(0,100,10))\n",
    "#plt.ylabel(sigma2s)\n",
    "plt.colorbar()\n",
    "#print(np.log(1+Z[170]))\n",
    "#print(np.log(1+cond_func(*lb2et(mus[166], sigma2s[170]))))\n",
    "#print(cond_func(et1, et2))\n",
    "#print(mus[166], sigma2s[170])\n",
    "#print (*lb2et(mus[166], sigma2s[170]))"
   ]
  },
  {
   "cell_type": "markdown",
   "metadata": {},
   "source": [
    "## Maj gradient stochastique dans H"
   ]
  },
  {
   "cell_type": "code",
   "execution_count": 77,
   "metadata": {
    "collapsed": false
   },
   "outputs": [
    {
     "name": "stdout",
     "output_type": "stream",
     "text": [
      "-------Update Rule-------\n",
      "alpha*eta1*(-eta2 + s2(x))/(eta1**2 + eta2)**2 + alpha*(-eta1 + s1(x))*(eta1**2 - eta2)/(eta1**2 + eta2)**2 + eta1\n",
      "alpha*eta1*(-eta1 + s1(x))/(eta1**2 + eta2)**2 + alpha*(-eta2 + s2(x))/(2*(eta1**2 + eta2)**2) + eta2\n",
      "-------Update Rule with x -------\n",
      "alpha*eta1*(-eta2 + s2(x))/(eta1**2 + eta2)**2 + alpha*(-eta1 + s1(x))*(eta1**2 - eta2)/(eta1**2 + eta2)**2 + eta1\n",
      "alpha*eta1*(-eta1 + x)/(eta1**2 + eta2)**2 + alpha*(-eta2 - x**2)/(2*(eta1**2 + eta2)**2) + eta2\n",
      "------- check -------\n",
      "Matrix([\n",
      "[(eta1*(eta2 + x**2) + (eta1 - x)*(eta1**2 - eta2))/(eta1**2 + eta2)**2],\n",
      "[             (2*eta1*(eta1 - x) + eta2 + x**2)/(2*(eta1**2 + eta2)**2)]])\n",
      "0\n",
      "0\n"
     ]
    }
   ],
   "source": [
    "x, alpha  = var('x alpha')\n",
    "s1 = Function('s1')(x) # x\n",
    "s2 = Function('s2')(x) #-x*x\n",
    "expr1 = Matrix(2,1,[eta1, eta2])\n",
    "expr2 = Matrix(2,1,[s1-eta1, s2-eta2])\n",
    "update_rule = expr1 + alpha * Js * expr2\n",
    "print('-------Update Rule-------')\n",
    "print(update_rule[0])\n",
    "print(update_rule[1])\n",
    "print('-------Update Rule with x -------')\n",
    "print(update_rule[0].subs(* [(s1, x), (s2, -x**2)]))\n",
    "print(update_rule[1].subs([(s1, x), (s2, -x**2)]))\n",
    "print('------- check -------')\n",
    "temp1 = (eta1*(eta2 + x**2) + (eta1 - x)*(8*eta1**2 - 8*eta2)/8)/(eta1**2 + eta2)**2\n",
    "temp2 = (eta1*(eta1 - x) + (1/2)*eta2 + (1/2)*x**2)/(eta1**2 + eta2)**2\n",
    "versus = - Js * expr2\n",
    "print(simplify(versus.subs([(s1, x), (s2, -x**2)])))\n",
    "print(simplify(versus[0].subs([(s1, x), (s2, -x**2)]) - temp1))\n",
    "print(simplify(versus[1].subs([(s1, x), (s2, -x**2)]) - temp2))"
   ]
  },
  {
   "cell_type": "markdown",
   "metadata": {},
   "source": [
    "## Fisher Information Matrix\n",
    "### Parametrisation (mu, sigma2)"
   ]
  },
  {
   "cell_type": "code",
   "execution_count": 6,
   "metadata": {
    "collapsed": false
   },
   "outputs": [
    {
     "name": "stdout",
     "output_type": "stream",
     "text": [
      "--- score ----\n",
      "Matrix([\n",
      "[                     (-mu + x)/sigma2],\n",
      "[(-sigma2 + (mu - x)**2)/(2*sigma2**2)]])\n",
      "--- score * score.T ----\n",
      "Matrix([\n",
      "[                        (mu - x)**2/sigma2**2, (mu - x)*(sigma2 - (mu - x)**2)/(2*sigma2**3)],\n",
      "[(mu - x)*(sigma2 - (mu - x)**2)/(2*sigma2**3),       (sigma2 - (mu - x)**2)**2/(4*sigma2**4)]])\n",
      "--- Fisher Information Matrix ----\n",
      "Matrix([\n",
      "[1/sigma2,               0],\n",
      "[       0, 1/(2*sigma2**2)]])\n"
     ]
    }
   ],
   "source": [
    "from sympy.stats import E, Normal\n",
    "x, mu = var('x mu')\n",
    "\n",
    "\n",
    "sigma2 = var('sigma2', positive=True)\n",
    "p = exp(- (x - mu)**2 / (2 * sigma2)) / sqrt(2 * sigma2 * pi)\n",
    "score = simplify(Matrix(2,1,[diff(log(p),mu), diff(log(p),sigma2)]))\n",
    "print('--- score ----')\n",
    "print (simplify(score))\n",
    "print('--- score * score.T ----')\n",
    "outer = score * score.T\n",
    "print (simplify(outer))\n",
    "X = Normal('X', mu, sqrt(sigma2))\n",
    "I = E(outer.subs([(x, X)]))\n",
    "print('--- Fisher Information Matrix ----')\n",
    "print(simplify(I))\n"
   ]
  },
  {
   "cell_type": "markdown",
   "metadata": {},
   "source": [
    "## Fisher Information Matrix\n",
    "### Parametrisation (mu, sigma)"
   ]
  },
  {
   "cell_type": "code",
   "execution_count": 7,
   "metadata": {
    "collapsed": false
   },
   "outputs": [
    {
     "name": "stdout",
     "output_type": "stream",
     "text": [
      "--- score ----\n",
      "Matrix([\n",
      "[                (-mu + x)/sigma**2],\n",
      "[(-sigma**2 + (mu - x)**2)/sigma**3]])\n",
      "--- score * score.T ----\n",
      "Matrix([\n",
      "[                      (mu - x)**2/sigma**4, (mu - x)*(sigma**2 - (mu - x)**2)/sigma**5],\n",
      "[(mu - x)*(sigma**2 - (mu - x)**2)/sigma**5,       (sigma**2 - (mu - x)**2)**2/sigma**6]])\n",
      "--- Fisher Information Matrix ----\n",
      "Matrix([\n",
      "[sigma**(-2),          0],\n",
      "[          0, 2/sigma**2]])\n"
     ]
    }
   ],
   "source": [
    "from sympy.stats import E, Normal\n",
    "x, mu = var('x mu')\n",
    "sigma = var('sigma', positive=True)\n",
    "p = exp(- (x - mu)**2 / (2 * sigma**2)) / sqrt(2 * sigma**2 * pi)\n",
    "score = simplify(Matrix(2,1,[diff(log(p),mu), diff(log(p),sigma)]))\n",
    "print('--- score ----')\n",
    "print (simplify(score))\n",
    "print('--- score * score.T ----')\n",
    "outer = score * score.T\n",
    "print (simplify(outer))\n",
    "X = Normal('X', mu, sigma)\n",
    "I = E(outer.subs([(x, X)]))\n",
    "print('--- Fisher Information Matrix ----')\n",
    "print(simplify(I))\n"
   ]
  },
  {
   "cell_type": "code",
   "execution_count": 17,
   "metadata": {
    "collapsed": false
   },
   "outputs": [
    {
     "name": "stdout",
     "output_type": "stream",
     "text": [
      "Matrix([\n",
      "[      sigma2,                -2*mu*sigma2],\n",
      "[-2*mu*sigma2, 2*sigma2*(2*mu**2 + sigma2)]])\n"
     ]
    }
   ],
   "source": [
    "t1, t2 = var('t1 t2')\n",
    "et1 = t1 / (2*t2)\n",
    "et2 = -t1**2/(4*t2**2) - 1 /(2*t2)\n",
    "M = Matrix(2,2,[diff(et1,t1),diff(et1,t2), diff(et2,t1), diff(et2,t2)])\n",
    "print(simplify(M.subs([(t1, mu/sigma2), (t2, 1/(2*sigma2))])))\n"
   ]
  },
  {
   "cell_type": "markdown",
   "metadata": {},
   "source": [
    "# Titterington"
   ]
  },
  {
   "cell_type": "code",
   "execution_count": 30,
   "metadata": {
    "collapsed": false
   },
   "outputs": [
    {
     "name": "stdout",
     "output_type": "stream",
     "text": [
      " ----- Gradient -------- \n",
      "Matrix([[Z1/w1 - Z4/(-w1 - w2 - w3 + 1)], [Z2/w2 - Z4/(-w1 - w2 - w3 + 1)], [Z3/w3 - Z4/(-w1 - w2 - w3 + 1)], [Z1*(s1(x) - Derivative(F1(t1), t1))], [Z2*(s2(x) - Derivative(F2(t2), t2))], [Z3*(s3(x) - Derivative(F3(t3), t3))], [Z4*(s4(x) - Derivative(F(t4), t4))]])\n",
      " ----- Hessienne -------- \n",
      "Matrix([[-Z1/w1**2 - Z4/(-w1 - w2 - w3 + 1)**2, -Z4/(-w1 - w2 - w3 + 1)**2, -Z4/(-w1 - w2 - w3 + 1)**2, 0, 0, 0, 0], [-Z4/(-w1 - w2 - w3 + 1)**2, -Z2/w2**2 - Z4/(-w1 - w2 - w3 + 1)**2, -Z4/(-w1 - w2 - w3 + 1)**2, 0, 0, 0, 0], [-Z4/(-w1 - w2 - w3 + 1)**2, -Z4/(-w1 - w2 - w3 + 1)**2, -Z3/w3**2 - Z4/(-w1 - w2 - w3 + 1)**2, 0, 0, 0, 0], [0, 0, 0, -Z1*Derivative(F1(t1), t1, t1), 0, 0, 0], [0, 0, 0, 0, -Z2*Derivative(F2(t2), t2, t2), 0, 0], [0, 0, 0, 0, 0, -Z3*Derivative(F3(t3), t3, t3), 0], [0, 0, 0, 0, 0, 0, -Z4*Derivative(F(t4), t4, t4)]])\n",
      " ----- Hessienne test -------- \n",
      "-Z4/(-w1 - w2 - w3 + 1)**2\n",
      " ----- MAJ -------- \n",
      "Matrix([\n",
      "[-Z1/w1**2 - Z4/(-w1 - w2 - w3 + 1)**2,            -Z4/(-w1 - w2 - w3 + 1)**2,            -Z4/(-w1 - w2 - w3 + 1)**2,                              0,                              0,                              0,                             0],\n",
      "[           -Z4/(-w1 - w2 - w3 + 1)**2, -Z2/w2**2 - Z4/(-w1 - w2 - w3 + 1)**2,            -Z4/(-w1 - w2 - w3 + 1)**2,                              0,                              0,                              0,                             0],\n",
      "[           -Z4/(-w1 - w2 - w3 + 1)**2,            -Z4/(-w1 - w2 - w3 + 1)**2, -Z3/w3**2 - Z4/(-w1 - w2 - w3 + 1)**2,                              0,                              0,                              0,                             0],\n",
      "[                                    0,                                     0,                                     0, -Z1*Derivative(F1(t1), t1, t1),                              0,                              0,                             0],\n",
      "[                                    0,                                     0,                                     0,                              0, -Z2*Derivative(F2(t2), t2, t2),                              0,                             0],\n",
      "[                                    0,                                     0,                                     0,                              0,                              0, -Z3*Derivative(F3(t3), t3, t3),                             0],\n",
      "[                                    0,                                     0,                                     0,                              0,                              0,                              0, -Z4*Derivative(F(t4), t4, t4)]])^-1\n",
      "Matrix([\n",
      "[-Z1/w1**2 - Z4/(-w1 - w2 - w3 + 1)**2,            -Z4/(-w1 - w2 - w3 + 1)**2,            -Z4/(-w1 - w2 - w3 + 1)**2,                              0,                              0,                              0,                             0],\n",
      "[           -Z4/(-w1 - w2 - w3 + 1)**2, -Z2/w2**2 - Z4/(-w1 - w2 - w3 + 1)**2,            -Z4/(-w1 - w2 - w3 + 1)**2,                              0,                              0,                              0,                             0],\n",
      "[           -Z4/(-w1 - w2 - w3 + 1)**2,            -Z4/(-w1 - w2 - w3 + 1)**2, -Z3/w3**2 - Z4/(-w1 - w2 - w3 + 1)**2,                              0,                              0,                              0,                             0],\n",
      "[                                    0,                                     0,                                     0, -Z1*Derivative(F1(t1), t1, t1),                              0,                              0,                             0],\n",
      "[                                    0,                                     0,                                     0,                              0, -Z2*Derivative(F2(t2), t2, t2),                              0,                             0],\n",
      "[                                    0,                                     0,                                     0,                              0,                              0, -Z3*Derivative(F3(t3), t3, t3),                             0],\n",
      "[                                    0,                                     0,                                     0,                              0,                              0,                              0, -Z4*Derivative(F(t4), t4, t4)]])^-1*Matrix([\n",
      "[     Z1/w1 - Z4/(-w1 - w2 - w3 + 1)],\n",
      "[     Z2/w2 - Z4/(-w1 - w2 - w3 + 1)],\n",
      "[     Z3/w3 - Z4/(-w1 - w2 - w3 + 1)],\n",
      "[Z1*(s1(x) - Derivative(F1(t1), t1))],\n",
      "[Z2*(s2(x) - Derivative(F2(t2), t2))],\n",
      "[Z3*(s3(x) - Derivative(F3(t3), t3))],\n",
      "[ Z4*(s4(x) - Derivative(F(t4), t4))]])\n"
     ]
    },
    {
     "ename": "AttributeError",
     "evalue": "'list' object has no attribute 'is_Integer'",
     "output_type": "error",
     "traceback": [
      "\u001b[0;31m---------------------------------------------------------------------------\u001b[0m",
      "\u001b[0;31mAttributeError\u001b[0m                            Traceback (most recent call last)",
      "\u001b[0;32m<ipython-input-30-98132e6d28ed>\u001b[0m in \u001b[0;36m<module>\u001b[0;34m()\u001b[0m\n\u001b[1;32m     28\u001b[0m \u001b[0;31m#print (H)\u001b[0m\u001b[0;34m\u001b[0m\u001b[0;34m\u001b[0m\u001b[0m\n\u001b[1;32m     29\u001b[0m \u001b[0;34m\u001b[0m\u001b[0m\n\u001b[0;32m---> 30\u001b[0;31m \u001b[0mprint\u001b[0m\u001b[0;34m(\u001b[0m\u001b[0mdiff\u001b[0m\u001b[0;34m(\u001b[0m\u001b[0mexp\u001b[0m\u001b[0;34m(\u001b[0m\u001b[0mx\u001b[0m\u001b[0;34m)\u001b[0m\u001b[0;34m,\u001b[0m \u001b[0;34m[\u001b[0m\u001b[0mx\u001b[0m\u001b[0;34m,\u001b[0m \u001b[0mx\u001b[0m\u001b[0;34m]\u001b[0m\u001b[0;34m)\u001b[0m\u001b[0;34m)\u001b[0m\u001b[0;34m\u001b[0m\u001b[0m\n\u001b[0m",
      "\u001b[0;32m/Users/csaintje/Documents/Recherche/Python/Envs/scientific_3_5/lib/python3.5/site-packages/sympy/core/function.py\u001b[0m in \u001b[0;36mdiff\u001b[0;34m(f, *symbols, **kwargs)\u001b[0m\n\u001b[1;32m   1689\u001b[0m     \u001b[0;32mexcept\u001b[0m \u001b[0mAttributeError\u001b[0m\u001b[0;34m:\u001b[0m\u001b[0;34m\u001b[0m\u001b[0m\n\u001b[1;32m   1690\u001b[0m         \u001b[0;32mpass\u001b[0m\u001b[0;34m\u001b[0m\u001b[0m\n\u001b[0;32m-> 1691\u001b[0;31m     \u001b[0;32mreturn\u001b[0m \u001b[0mDerivative\u001b[0m\u001b[0;34m(\u001b[0m\u001b[0mf\u001b[0m\u001b[0;34m,\u001b[0m \u001b[0;34m*\u001b[0m\u001b[0msymbols\u001b[0m\u001b[0;34m,\u001b[0m \u001b[0;34m**\u001b[0m\u001b[0mkwargs\u001b[0m\u001b[0;34m)\u001b[0m\u001b[0;34m\u001b[0m\u001b[0m\n\u001b[0m\u001b[1;32m   1692\u001b[0m \u001b[0;34m\u001b[0m\u001b[0m\n\u001b[1;32m   1693\u001b[0m \u001b[0;34m\u001b[0m\u001b[0m\n",
      "\u001b[0;32m/Users/csaintje/Documents/Recherche/Python/Envs/scientific_3_5/lib/python3.5/site-packages/sympy/core/function.py\u001b[0m in \u001b[0;36m__new__\u001b[0;34m(cls, expr, *variables, **assumptions)\u001b[0m\n\u001b[1;32m   1040\u001b[0m         \u001b[0;31m# count of 1 if there is only one variable: diff(e,x)->diff(e,x,1).\u001b[0m\u001b[0;34m\u001b[0m\u001b[0;34m\u001b[0m\u001b[0m\n\u001b[1;32m   1041\u001b[0m         \u001b[0mvariables\u001b[0m \u001b[0;34m=\u001b[0m \u001b[0mlist\u001b[0m\u001b[0;34m(\u001b[0m\u001b[0msympify\u001b[0m\u001b[0;34m(\u001b[0m\u001b[0mvariables\u001b[0m\u001b[0;34m)\u001b[0m\u001b[0;34m)\u001b[0m\u001b[0;34m\u001b[0m\u001b[0m\n\u001b[0;32m-> 1042\u001b[0;31m         \u001b[0;32mif\u001b[0m \u001b[0;32mnot\u001b[0m \u001b[0mvariables\u001b[0m\u001b[0;34m[\u001b[0m\u001b[0;34m-\u001b[0m\u001b[0;36m1\u001b[0m\u001b[0;34m]\u001b[0m\u001b[0;34m.\u001b[0m\u001b[0mis_Integer\u001b[0m \u001b[0;32mor\u001b[0m \u001b[0mlen\u001b[0m\u001b[0;34m(\u001b[0m\u001b[0mvariables\u001b[0m\u001b[0;34m)\u001b[0m \u001b[0;34m==\u001b[0m \u001b[0;36m1\u001b[0m\u001b[0;34m:\u001b[0m\u001b[0;34m\u001b[0m\u001b[0m\n\u001b[0m\u001b[1;32m   1043\u001b[0m             \u001b[0mvariables\u001b[0m\u001b[0;34m.\u001b[0m\u001b[0mappend\u001b[0m\u001b[0;34m(\u001b[0m\u001b[0mS\u001b[0m\u001b[0;34m.\u001b[0m\u001b[0mOne\u001b[0m\u001b[0;34m)\u001b[0m\u001b[0;34m\u001b[0m\u001b[0m\n\u001b[1;32m   1044\u001b[0m \u001b[0;34m\u001b[0m\u001b[0m\n",
      "\u001b[0;31mAttributeError\u001b[0m: 'list' object has no attribute 'is_Integer'"
     ]
    }
   ],
   "source": []
  },
  {
   "cell_type": "code",
   "execution_count": 19,
   "metadata": {
    "collapsed": false
   },
   "outputs": [
    {
     "name": "stdout",
     "output_type": "stream",
     "text": [
      " ----- Gradient -------- \n",
      "Matrix([[-z3/(-w1 - w2 + 1) + z1/w1], [-z3/(-w1 - w2 + 1) + z2/w2], [z1*s1(x) - z1*Derivative(F1(t1), t1)], [z2*s2(x) - z2*Derivative(F2(t2), t2)], [z3*s3(x) - z3*Derivative(F3(t3), t3)]])\n",
      " ----- Hessienne -------- \n",
      "Matrix([\n",
      "[-z3/(w1 + w2 - 1)**2 - z1/w1**2,            -z3/(w1 + w2 - 1)**2,                              0,                              0,                              0],\n",
      "[           -z3/(w1 + w2 - 1)**2, -z3/(w1 + w2 - 1)**2 - z2/w2**2,                              0,                              0,                              0],\n",
      "[                              0,                               0, -z1*Derivative(F1(t1), t1, t1),                              0,                              0],\n",
      "[                              0,                               0,                              0, -z2*Derivative(F2(t2), t2, t2),                              0],\n",
      "[                              0,                               0,                              0,                              0, -z3*Derivative(F3(t3), t3, t3)]])\n",
      " ----- MAJ -------- \n",
      "Matrix([\n",
      "[-z3/(w1 + w2 - 1)**2 - z1/w1**2,            -z3/(w1 + w2 - 1)**2,                              0,                              0,                              0],\n",
      "[           -z3/(w1 + w2 - 1)**2, -z3/(w1 + w2 - 1)**2 - z2/w2**2,                              0,                              0,                              0],\n",
      "[                              0,                               0, -z1*Derivative(F1(t1), t1, t1),                              0,                              0],\n",
      "[                              0,                               0,                              0, -z2*Derivative(F2(t2), t2, t2),                              0],\n",
      "[                              0,                               0,                              0,                              0, -z3*Derivative(F3(t3), t3, t3)]])^-1\n",
      "Matrix([\n",
      "[z3*(-z3/(-w1 - w2 + 1) + z2/w2)/((-z3/(w1 + w2 - 1)**2 - z1/w1**2)*(w1 + w2 - 1)**2*(z3**2/((z3/(w1 + w2 - 1)**2 + z1/w1**2)*(w1 + w2 - 1)**4) - z3/(w1 + w2 - 1)**2 - z2/w2**2)) + (-z3/(-w1 - w2 + 1) + z1/w1)*(z3**2/((-z3/(w1 + w2 - 1)**2 - z1/w1**2)**2*(w1 + w2 - 1)**4*(z3**2/((z3/(w1 + w2 - 1)**2 + z1/w1**2)*(w1 + w2 - 1)**4) - z3/(w1 + w2 - 1)**2 - z2/w2**2)) + 1/(-z3/(w1 + w2 - 1)**2 - z1/w1**2))],\n",
      "[                                                                                                      z3*(-z3/(-w1 - w2 + 1) + z1/w1)/((-z3/(w1 + w2 - 1)**2 - z1/w1**2)*(w1 + w2 - 1)**2*(z3**2/((z3/(w1 + w2 - 1)**2 + z1/w1**2)*(w1 + w2 - 1)**4) - z3/(w1 + w2 - 1)**2 - z2/w2**2)) + (-z3/(-w1 - w2 + 1) + z2/w2)/(z3**2/((z3/(w1 + w2 - 1)**2 + z1/w1**2)*(w1 + w2 - 1)**4) - z3/(w1 + w2 - 1)**2 - z2/w2**2)],\n",
      "[                                                                                                                                                                                                                                                                                                                                            -(z1*s1(x) - z1*Derivative(F1(t1), t1))/(z1*Derivative(F1(t1), t1, t1))],\n",
      "[                                                                                                                                                                                                                                                                                                                                            -(z2*s2(x) - z2*Derivative(F2(t2), t2))/(z2*Derivative(F2(t2), t2, t2))],\n",
      "[                                                                                                                                                                                                                                                                                                                                            -(z3*s3(x) - z3*Derivative(F3(t3), t3))/(z3*Derivative(F3(t3), t3, t3))]])\n"
     ]
    }
   ],
   "source": [
    "from sympy import Function, Symbol, hessian, Matrix, Inverse, var, log, diff, simplify\n",
    "t1, t2, t3, t4 = var('t1'), var('t2'), var('t3'), var('t4')\n",
    "w1, w2, w3 = Symbol('w1'), Symbol('w2'), Symbol('w3')\n",
    "F1, F2, F3, F4 = Function('F1')(t1), Function('F2')(t2), Function('F3')(t3), Function('F4')(t4)\n",
    "x = var('x')\n",
    "s1, s2, s3 = Function('s1')(x), Function('s2')(x), Function('s3')(x), Function('s4')(x)\n",
    "z1, z2, z3, z4 = var('z1 z2 z3 z4')\n",
    "z = Matrix(3, 1, [z1, z2, z3])\n",
    "lw = Matrix(3, 1, [log(w1), log(w2), log(w3)])\n",
    "F = Matrix(3, 1, [-F1, -F2, -F3])\n",
    "T = Matrix(3, 1, [t1, t2, t3])\n",
    "sxz = Matrix(6, 1, [z1, z1*s1, z2, z2*s2, z3, z3*s3])\n",
    "tc = Matrix(6, 1, [log(w1)-F1,t1,log(w2)-F2,t2,log(1-w1-w2)-F3,t3])\n",
    "logp = sxz.T * tc \n",
    "params = [w1, w2, t1, t2, t3]\n",
    "G = Matrix([diff(logp, p) for p in params])\n",
    "H = simplify(hessian(logp,params))\n",
    "IH = Inverse(H)\n",
    "print(' ----- Gradient -------- ')\n",
    "print(G)\n",
    "print(' ----- Hessienne -------- ')\n",
    "print(H)\n",
    "print(' ----- MAJ -------- ')\n",
    "print(IH)\n",
    "print(IH*G)\n",
    "#H = np.array([[diff(g[m], p) for m in range(len(g))] for p in params])\n",
    "#print (H)\n"
   ]
  },
  {
   "cell_type": "code",
   "execution_count": null,
   "metadata": {
    "collapsed": true
   },
   "outputs": [],
   "source": []
  }
 ],
 "metadata": {
  "kernelspec": {
   "display_name": "Python 3",
   "language": "python",
   "name": "python3"
  },
  "language_info": {
   "codemirror_mode": {
    "name": "ipython",
    "version": 3
   },
   "file_extension": ".py",
   "mimetype": "text/x-python",
   "name": "python",
   "nbconvert_exporter": "python",
   "pygments_lexer": "ipython3",
   "version": "3.5.1"
  }
 },
 "nbformat": 4,
 "nbformat_minor": 0
}
