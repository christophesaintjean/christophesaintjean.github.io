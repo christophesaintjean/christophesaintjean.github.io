{
 "cells": [
  {
   "cell_type": "markdown",
   "metadata": {},
   "source": [
    "## Temporal segmentation of Bernoulli time series\n",
    "\n",
    "Implementation pour Bernoulli de :\n",
    "\"Online change detection in exponential families with unknown parameters\"\n",
    "Arnaud Dessein, Arshia Cont\n",
    "\n",
    "\n"
   ]
  },
  {
   "cell_type": "code",
   "execution_count": null,
   "metadata": {
    "collapsed": true
   },
   "outputs": [],
   "source": [
    "import numpy as np\n",
    "import scipy.stats as st\n",
    "import matplotlib.pyplot as plt\n",
    "from sympy import symbols, log, exp, diff, solve, integrate, simplify\n",
    "import itertools as it"
   ]
  },
  {
   "cell_type": "code",
   "execution_count": null,
   "metadata": {},
   "outputs": [],
   "source": [
    "theta, eta = symbols('theta eta', positive=True)\n",
    "F = log(1 + exp(theta))\n",
    "print(F)\n",
    "gradF = diff(F, theta)\n",
    "print('GradF :', gradF)\n",
    "gradG = solve(gradF - eta, theta)\n",
    "try:\n",
    "    G = simplify(integrate(gradG, eta))\n",
    "except:\n",
    "    gradG = log(eta/(1-eta))\n",
    "    G = simplify(integrate(gradG, eta))\n",
    "print('GradG :', gradG)\n",
    "print('G :', G)\n",
    "G_n = eta*log(eta/(1 - eta)) + log(1 - eta)\n",
    "print('G_n :', G_n)\n",
    "gradG_n = diff(G_n, eta)\n",
    "gradG_bis = diff(G, eta)\n",
    "print('Difference entre les expressions : ', simplify(gradG_n - gradG_bis))\n",
    "\n",
    "def F_star(x):\n",
    "    return x* np.log(x / (1 - x)) + np.log(1 - x)"
   ]
  },
  {
   "cell_type": "code",
   "execution_count": null,
   "metadata": {},
   "outputs": [],
   "source": [
    "cuts  = [500, 700]\n",
    "probs = [0.4, 0.6]\n",
    "data = [st.bernoulli(p).rvs(size=n) for p, n in zip(probs, np.diff([0] + cuts))]\n",
    "probs_est = [np.mean(seg) for seg in data]    # mle\n",
    "print(probs_est)\n",
    "data = np.concatenate(data).astype(np.float)\n",
    "suff_stat_bernoulli = data\n",
    "cum_suff_stat_bernoulli = np.cumsum(suff_stat_bernoulli)\n",
    "\n",
    "N = len(data)\n",
    "i = np.arange(1, N)\n",
    "eta_inf_i = np.cumsum(suff_stat_bernoulli[:-1]) / i\n",
    "eta_sup_i = np.cumsum(suff_stat_bernoulli[-1:0:-1]) / i\n",
    "eta_sup_i = eta_sup_i[::-1]\n",
    "eta_n = np.mean(suff_stat_bernoulli)\n",
    "#print(eta_inf_i)\n",
    "#print(F_star(eta_inf_i))\n",
    "GLRT = 2 * (i * F_star(eta_inf_i) + (N-i) * F_star(eta_sup_i) - N * F_star(eta_n))\n",
    "GLRT_fix = np.ma.masked_invalid(GLRT)\n",
    "\n",
    "print(np.argmax(GLRT_fix), np.nanmax(GLRT_fix) )\n",
    "f, ax1 = plt.subplots()\n",
    "ax1.plot(cum_suff_stat_bernoulli, '-b')\n",
    "ax1.set_xlim(0,N)\n",
    "ax1.set_ylim(0,N)\n",
    "ax1.set_ylabel('cumsum', color='b')\n",
    "ax1.tick_params('y', colors='b')\n",
    "ax2 = ax1.twinx()\n",
    "ax2.plot(i, GLRT,'-r')\n",
    "ax2.set_ylabel('GLRT', color='r')\n",
    "ax2.set_ylim(0,40)\n",
    "ax2.tick_params('y', colors='r')"
   ]
  },
  {
   "cell_type": "code",
   "execution_count": null,
   "metadata": {},
   "outputs": [],
   "source": [
    "#cuts  = [500, 700] #, 1000, 1500]\n",
    "#probs = [0.15, 0.8] #, 0.5, 0.9]\n",
    "#data = [st.bernoulli(p).rvs(size=n) for p, n in zip(probs, np.diff([0] + cuts))]\n",
    "#probs_est = [np.mean(seg) for seg in data]    # mle\n",
    "#print(probs_est)\n",
    "#data = np.concatenate(data).astype(np.float)\n",
    "#suff_stat_bernoulli = data\n",
    "#cum_suff_stat_bernoulli = np.cumsum(suff_stat_bernoulli)"
   ]
  },
  {
   "cell_type": "code",
   "execution_count": null,
   "metadata": {},
   "outputs": [],
   "source": [
    "def GLRT_bernoulli_gen(data):\n",
    "    GLRT = np.zeros(len(data))\n",
    "    eta_0 = 0\n",
    "    eta_inf = np.zeros(len(data)-1)\n",
    "    eta_sup = np.zeros(len(data)-1)\n",
    "    for n, x in enumerate(data):\n",
    "        if n == 0:  \n",
    "            eta_0 = x\n",
    "            continue\n",
    "        # new split \n",
    "        eta_inf[n-1] = eta_0  # n-1 elements\n",
    "        eta_sup[n-1] = x      # 1 element\n",
    "        # update previous splits\n",
    "        eta_sup[:(n-1)] += (x - eta_sup[:(n-1)]) / np.arange(n,1,-1)\n",
    "        # Update no split\n",
    "        eta_0 += (x - eta_0) / (n + 1)\n",
    "        n_inf = np.arange(1, n+1)\n",
    "        n_sup = np.arange(n,0,-1)\n",
    "        GLRT[:n] = 2 * ( n_inf * F_star(eta_inf[:n]) + \n",
    "                         n_sup * F_star(eta_sup[:n]) -\n",
    "                         (n+1) * F_star(eta_0))\n",
    "        yield n, GLRT\n",
    "    while True:\n",
    "        yield n, GLRT\n",
    "        "
   ]
  },
  {
   "cell_type": "code",
   "execution_count": null,
   "metadata": {},
   "outputs": [],
   "source": [
    "from matplotlib import animation, rc\n",
    "from IPython.display import HTML\n",
    "\n",
    "f, ax1 = plt.subplots()\n",
    "ax1.plot(np.cumsum(data), '-b')\n",
    "ax1.set_xlim(0,len(data))\n",
    "ax1.set_ylim(0,len(data))\n",
    "ax1.set_ylabel('cumsum', color='b')\n",
    "ax1.tick_params('y', colors='b')\n",
    "\n",
    "ax2 = ax1.twinx()\n",
    "line_GLRT, = ax2.plot(np.ones_like(data),'-r', animated=True)\n",
    "ax2.set_ylabel('GLRT', color='r')\n",
    "ax2.set_ylim(0,40)\n",
    "ax2.tick_params('y', colors='r')\n",
    "\n",
    "\n",
    "def GLRT_update(onlinedata):\n",
    "    n, GLRT = onlinedata\n",
    "    line_GLRT.set_ydata(GLRT)\n",
    "    return line_GLRT,\n",
    "\n",
    "anim = animation.FuncAnimation(f, func=GLRT_update, \n",
    "                               frames=GLRT_bernoulli_gen(data),\n",
    "                               repeat=False,\n",
    "                               interval=20,\n",
    "                               save_count=len(data)-1)  \n",
    "HTML(anim.to_html5_video())"
   ]
  },
  {
   "cell_type": "code",
   "execution_count": null,
   "metadata": {
    "collapsed": true
   },
   "outputs": [],
   "source": []
  }
 ],
 "metadata": {
  "kernelspec": {
   "display_name": "Python 3",
   "language": "python",
   "name": "python3"
  },
  "language_info": {
   "codemirror_mode": {
    "name": "ipython",
    "version": 3
   },
   "file_extension": ".py",
   "mimetype": "text/x-python",
   "name": "python",
   "nbconvert_exporter": "python",
   "pygments_lexer": "ipython3",
   "version": "3.5.3"
  }
 },
 "nbformat": 4,
 "nbformat_minor": 2
}
