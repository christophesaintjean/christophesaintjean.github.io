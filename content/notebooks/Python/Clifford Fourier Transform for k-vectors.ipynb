{
 "cells": [
  {
   "cell_type": "markdown",
   "metadata": {},
   "source": [
    "# Clifford Fourier Transform for k-vectors\n",
    "\n",
    "This notebook shows how to use the outermorphism property for encoding a Fourier Transform on k-vectors\n",
    "$$e^{\\frac{1}{2}B} ( v_1 \\wedge v_2 ) e^{-\\frac{1}{2}B} = e^{\\frac{1}{2}B}v_1e^{-\\frac{1}{2}B}\\wedge e^{\\frac{1}{2}B}v_2e^{-\\frac{1}{2}B}$$"
   ]
  },
  {
   "cell_type": "code",
   "execution_count": 10,
   "metadata": {
    "collapsed": false
   },
   "outputs": [],
   "source": [
    "import sympy.galgebra.ga as ga"
   ]
  },
  {
   "cell_type": "code",
   "execution_count": 5,
   "metadata": {
    "collapsed": true
   },
   "outputs": [],
   "source": [
    "n = 3"
   ]
  },
  {
   "cell_type": "code",
   "execution_count": 12,
   "metadata": {
    "collapsed": false
   },
   "outputs": [
    {
     "name": "stdout",
     "output_type": "stream",
     "text": [
      "1 0 0 0,0 1 0 0,0 0 1 0,0 0 0 1\n"
     ]
    }
   ],
   "source": [
    "metric = ga.diagpq(4,0)\n",
    "print(metric)\n"
   ]
  },
  {
   "cell_type": "code",
   "execution_count": 7,
   "metadata": {
    "collapsed": false
   },
   "outputs": [
    {
     "name": "stdout",
     "output_type": "stream",
     "text": [
      "/bin/sh: -c: line 0: syntax error near unexpected token `('\r\n",
      "/bin/sh: -c: line 0: `ls -F -G ()'\r\n"
     ]
    }
   ],
   "source": [
    "ls()"
   ]
  },
  {
   "cell_type": "code",
   "execution_count": 9,
   "metadata": {
    "collapsed": false
   },
   "outputs": [
    {
     "name": "stdout",
     "output_type": "stream",
     "text": [
      "Help on package sympy.galgebra in sympy:\n",
      "\n",
      "NAME\n",
      "    sympy.galgebra - A module for geometric algebra\n",
      "\n",
      "PACKAGE CONTENTS\n",
      "    debug\n",
      "    ga\n",
      "    manifold\n",
      "    ncutil\n",
      "    precedence\n",
      "    printing\n",
      "    stringarrays\n",
      "    tests (package)\n",
      "    vector\n",
      "\n",
      "FILE\n",
      "    /Users/csaintje/Documents/Recherche/Python/Envs/scientific_3_5/lib/python3.5/site-packages/sympy/galgebra/__init__.py\n",
      "\n",
      "\n"
     ]
    }
   ],
   "source": [
    "help(GA)"
   ]
  },
  {
   "cell_type": "code",
   "execution_count": null,
   "metadata": {
    "collapsed": true
   },
   "outputs": [],
   "source": []
  }
 ],
 "metadata": {
  "kernelspec": {
   "display_name": "Python 3",
   "language": "python",
   "name": "python3"
  },
  "language_info": {
   "codemirror_mode": {
    "name": "ipython",
    "version": 3
   },
   "file_extension": ".py",
   "mimetype": "text/x-python",
   "name": "python",
   "nbconvert_exporter": "python",
   "pygments_lexer": "ipython3",
   "version": "3.5.0"
  }
 },
 "nbformat": 4,
 "nbformat_minor": 0
}
