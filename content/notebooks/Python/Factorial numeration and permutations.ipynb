{
 "cells": [
  {
   "cell_type": "markdown",
   "metadata": {},
   "source": [
    "# Factorial numeration and permutations\n",
    "\n",
    "Implementation of article:  \n",
    "\n",
    "Laisant, Charles-Ange (1888), \"Sur la numération factorielle, application aux permutations\", Bulletin de la Société Mathématique de France (in French) 16: 176–183.\n",
    "\n",
    "http://archive.numdam.org/ARCHIVE/BSMF/BSMF_1888__16_/BSMF_1888__16__176_0/BSMF_1888__16__176_0.pdf"
   ]
  },
  {
   "cell_type": "code",
   "execution_count": 1,
   "metadata": {
    "collapsed": true
   },
   "outputs": [],
   "source": [
    "from math import factorial"
   ]
  },
  {
   "cell_type": "code",
   "execution_count": 2,
   "metadata": {
    "collapsed": false
   },
   "outputs": [
    {
     "name": "stdout",
     "output_type": "stream",
     "text": [
      "[7, 4, 1, 5, 3, 2, 0, 1] [7, 4, 1, 5, 3, 2, 0, 1]\n",
      "[2, 0]\n",
      "[0, 0, 2, 0]\n"
     ]
    }
   ],
   "source": [
    "def number2pattern(N, n = 0):\n",
    "    pattern = []\n",
    "    if n == 0:\n",
    "        i = 2\n",
    "        while N > 0:\n",
    "            pattern = [N % i] + pattern\n",
    "            N = N // i\n",
    "            i += 1\n",
    "    else:\n",
    "        for i in range(2,n+1):\n",
    "            pattern = [N % i] + pattern\n",
    "            N = N // i    \n",
    "    return pattern\n",
    "\n",
    "def number2pattern_dec(N,n):\n",
    "    pattern = []\n",
    "    for i in range(n,0,-1):\n",
    "        pattern.append(N // factorial(i))\n",
    "        N = N % factorial(i)\n",
    "    return pattern\n",
    "\n",
    "N = 303805\n",
    "alpha = number2pattern(N)\n",
    "n = len(alpha)\n",
    "print(alpha, number2pattern_dec(N,n))\n",
    "assert (N == sum(alpha[i]*factorial(n-i) for i in range(n)))\n",
    "\n",
    "print(number2pattern(4))     # automatic setting of n\n",
    "print(number2pattern(4, 5))  # manual setting of n"
   ]
  },
  {
   "cell_type": "code",
   "execution_count": 3,
   "metadata": {
    "collapsed": false
   },
   "outputs": [
    {
     "name": "stdout",
     "output_type": "stream",
     "text": [
      "[2, 1]\n",
      "['c', 'b', 'a']\n"
     ]
    }
   ],
   "source": [
    "def pattern2permutation(pattern, s = None):\n",
    "    pattern.append(0)\n",
    "    n = len(pattern)\n",
    "    if s is None:\n",
    "        s = list(range(1,n+1)) # integers to permute\n",
    "    else:\n",
    "        assert len(s) == n\n",
    "    permutation = []\n",
    "    for p_i in pattern:\n",
    "        permutation.append(s[p_i]) \n",
    "        del s[p_i]\n",
    "    return permutation\n",
    "\n",
    "N = 5\n",
    "alpha = number2pattern(N)\n",
    "print(alpha)\n",
    "print(pattern2permutation(alpha, ['a', 'b', 'c']))"
   ]
  },
  {
   "cell_type": "markdown",
   "metadata": {},
   "source": [
    "## Enumerate all n-permutations"
   ]
  },
  {
   "cell_type": "code",
   "execution_count": 5,
   "metadata": {
    "collapsed": false
   },
   "outputs": [
    {
     "name": "stdout",
     "output_type": "stream",
     "text": [
      "[1, 2, 3]\n",
      "[1, 3, 2]\n",
      "[2, 1, 3]\n",
      "[2, 3, 1]\n",
      "[3, 1, 2]\n",
      "[3, 2, 1]\n"
     ]
    }
   ],
   "source": [
    "n = 3\n",
    "for N in range(factorial(n)):\n",
    "    print(pattern2permutation(number2pattern(N,n)))"
   ]
  },
  {
   "cell_type": "code",
   "execution_count": null,
   "metadata": {
    "collapsed": true
   },
   "outputs": [],
   "source": []
  },
  {
   "cell_type": "code",
   "execution_count": null,
   "metadata": {
    "collapsed": true
   },
   "outputs": [],
   "source": []
  }
 ],
 "metadata": {
  "kernelspec": {
   "display_name": "Python 3",
   "language": "python",
   "name": "python3"
  },
  "language_info": {
   "codemirror_mode": {
    "name": "ipython",
    "version": 3
   },
   "file_extension": ".py",
   "mimetype": "text/x-python",
   "name": "python",
   "nbconvert_exporter": "python",
   "pygments_lexer": "ipython3",
   "version": "3.5.1"
  }
 },
 "nbformat": 4,
 "nbformat_minor": 0
}
