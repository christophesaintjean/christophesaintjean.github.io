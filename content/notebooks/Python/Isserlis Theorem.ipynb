{
 "cells": [
  {
   "cell_type": "markdown",
   "metadata": {},
   "source": [
    "# [Isserlis Theorem](http://en.wikipedia.org/wiki/Isserlis%27_theorem \"Page on Wikipedia\")\n"
   ]
  },
  {
   "cell_type": "code",
   "execution_count": 12,
   "metadata": {
    "collapsed": false
   },
   "outputs": [
    {
     "name": "stdout",
     "output_type": "stream",
     "text": [
      "((0, 4), (1, 3), (2, 5))\n",
      "((0, 4), (1, 5), (2, 3))\n",
      "((0, 1), (2, 3), (4, 5))\n",
      "((0, 3), (1, 5), (2, 4))\n",
      "((0, 2), (1, 5), (3, 4))\n",
      "((0, 4), (1, 2), (3, 5))\n",
      "((0, 3), (1, 4), (2, 5))\n",
      "((0, 1), (2, 4), (3, 5))\n",
      "((0, 5), (1, 4), (2, 3))\n",
      "((0, 5), (1, 2), (3, 4))\n",
      "((0, 2), (1, 3), (4, 5))\n",
      "((0, 3), (1, 2), (4, 5))\n",
      "((0, 2), (1, 4), (3, 5))\n",
      "((0, 1), (2, 5), (3, 4))\n",
      "((0, 5), (1, 3), (2, 4))\n"
     ]
    }
   ],
   "source": [
    "import itertools as it\n",
    "\n",
    "def group(iterable, n=2):\n",
    "    return zip(*([iter(iterable)] * n))\n",
    "\n",
    "def set_partition(iterable, n=2):\n",
    "    set_partitions = set()\n",
    "\n",
    "    for permutation in it.permutations(iterable):\n",
    "        grouped = group(list(permutation), n)\n",
    "        sorted_group = tuple(sorted([tuple(sorted(partition)) for partition in grouped]))\n",
    "        set_partitions.add(sorted_group)\n",
    "\n",
    "    return set_partitions\n",
    "\n",
    "partitions = set_partition([0,1,2,3,4,5], 2)\n",
    "for part in partitions:\n",
    "    print(part)\n",
    "    "
   ]
  },
  {
   "cell_type": "markdown",
   "metadata": {},
   "source": [
    "## The unknows\n",
    "\n",
    "[http://en.wikipedia.org/wiki/Multivariate_normal_distribution#Higher_moments]"
   ]
  },
  {
   "cell_type": "code",
   "execution_count": 14,
   "metadata": {
    "collapsed": false
   },
   "outputs": [
    {
     "name": "stdout",
     "output_type": "stream",
     "text": [
      "(X0, X1, X2, X3, X4, X5)\n",
      "((0, 4), (1, 3), (2, 5))\n",
      "((0, 4), (1, 5), (2, 3))\n",
      "((0, 1), (2, 3), (4, 5))\n",
      "((0, 3), (1, 5), (2, 4))\n",
      "((0, 2), (1, 5), (3, 4))\n",
      "((0, 4), (1, 2), (3, 5))\n",
      "((0, 3), (1, 4), (2, 5))\n",
      "((0, 1), (2, 4), (3, 5))\n",
      "((0, 5), (1, 4), (2, 3))\n",
      "((0, 5), (1, 2), (3, 4))\n",
      "((0, 2), (1, 3), (4, 5))\n",
      "((0, 3), (1, 2), (4, 5))\n",
      "((0, 2), (1, 4), (3, 5))\n",
      "((0, 1), (2, 5), (3, 4))\n",
      "((0, 5), (1, 3), (2, 4))\n"
     ]
    }
   ],
   "source": [
    "from sympy import MatrixSymbol, symbols\n",
    "dim = 6\n",
    "Sigma = MatrixSymbol('S', dim, dim)\n",
    "X = symbols('X0:%d'%dim)\n",
    "print X\n",
    "def mu_expand(var_list, order_list):\n",
    "    assert(len(var_list) == len(order_list))\n",
    "    orders = list(it.chain(*(it.repeat(var, order) \n",
    "                            for var, order in zip(var_list, order_list))))\n",
    "    return orders\n",
    "\n",
    "def mu(var_list=X, order_list=[1]*dim):\n",
    "    orders = mu_expand(var_list, order_list)\n",
    "    index_orders = range(len(orders))\n",
    "    partitions = set_partition(index_orders, 2)\n",
    "    for part in partitions:\n",
    "        print(part)\n",
    "        \n",
    "mu(X,(1,1,1,1,1,1))\n",
    " "
   ]
  },
  {
   "cell_type": "code",
   "execution_count": 55,
   "metadata": {
    "collapsed": false
   },
   "outputs": [
    {
     "data": {
      "text/plain": [
       "[]"
      ]
     },
     "execution_count": 55,
     "metadata": {},
     "output_type": "execute_result"
    }
   ],
   "source": [
    "[555]*0"
   ]
  },
  {
   "cell_type": "code",
   "execution_count": null,
   "metadata": {
    "collapsed": true
   },
   "outputs": [],
   "source": []
  },
  {
   "cell_type": "code",
   "execution_count": 73,
   "metadata": {
    "collapsed": false
   },
   "outputs": [
    {
     "ename": "SyntaxError",
     "evalue": "invalid syntax (<ipython-input-73-4b73b67a200c>, line 12)",
     "output_type": "error",
     "traceback": [
      "\u001b[0;36m  File \u001b[0;32m\"<ipython-input-73-4b73b67a200c>\"\u001b[0;36m, line \u001b[0;32m12\u001b[0m\n\u001b[0;31m    yield (element, *other)\u001b[0m\n\u001b[0m                    ^\u001b[0m\n\u001b[0;31mSyntaxError\u001b[0m\u001b[0;31m:\u001b[0m invalid syntax\n"
     ]
    }
   ],
   "source": [
    "def set_partition(iterable, n=2):\n",
    "    def rec_set_partition(atuple, tail):\n",
    "        print \"atuple\", atuple, tail\n",
    "        if alist == []:\n",
    "            return\n",
    "        else:\n",
    "            first = atuple[0]\n",
    "            for completion in it.combinations(atuple[1:], n-1):\n",
    "                element = tuple(it.chain((first,), completion))\n",
    "                print first, ' ---- ', element\n",
    "                other = rec_set_partition(alist[1:], tail.append(element))\n",
    "                yield (element, *other)\n",
    "    return rec_set_partition(list(iterable), [])\n",
    "partitions = set_partition([1,2,3,4,5,6], 2)\n",
    "for part in partitions:\n",
    "    print(part)"
   ]
  },
  {
   "cell_type": "code",
   "execution_count": 81,
   "metadata": {
    "collapsed": false
   },
   "outputs": [
    {
     "name": "stdout",
     "output_type": "stream",
     "text": [
      "[(0, 1), (0, 2), (0, 3), (1, 2), (1, 3), (2, 3)]\n",
      "[(0, 1, 2, 3)]\n"
     ]
    }
   ],
   "source": [
    "print [_ for _ in it.combinations(range(4), 2)]\n",
    "print [_ for _ in it.combinations(range(4),4)]\n",
    "\n"
   ]
  },
  {
   "cell_type": "code",
   "execution_count": null,
   "metadata": {
    "collapsed": true
   },
   "outputs": [],
   "source": []
  }
 ],
 "metadata": {
  "kernelspec": {
   "display_name": "Python 2",
   "language": "python",
   "name": "python2"
  },
  "language_info": {
   "codemirror_mode": {
    "name": "ipython",
    "version": 2
   },
   "file_extension": ".py",
   "mimetype": "text/x-python",
   "name": "python",
   "nbconvert_exporter": "python",
   "pygments_lexer": "ipython2",
   "version": "2.7.10"
  }
 },
 "nbformat": 4,
 "nbformat_minor": 0
}
