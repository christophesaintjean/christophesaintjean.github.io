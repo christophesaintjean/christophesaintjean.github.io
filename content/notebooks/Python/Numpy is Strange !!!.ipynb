{
 "cells": [
  {
   "cell_type": "code",
   "execution_count": 1,
   "metadata": {
    "collapsed": false
   },
   "outputs": [
    {
     "name": "stdout",
     "output_type": "stream",
     "text": [
      "1.10.4\n"
     ]
    }
   ],
   "source": [
    "import numpy as np\n",
    "print np.__version__"
   ]
  },
  {
   "cell_type": "code",
   "execution_count": 2,
   "metadata": {
    "collapsed": false
   },
   "outputs": [],
   "source": [
    "d = 2\n",
    "stype = np.dtype([\n",
    "            (\"p1\", np.double),\n",
    "            (\"p2\", (np.double, (d, d)))\n",
    "    ])"
   ]
  },
  {
   "cell_type": "code",
   "execution_count": 3,
   "metadata": {
    "collapsed": false
   },
   "outputs": [
    {
     "name": "stdout",
     "output_type": "stream",
     "text": [
      "(3.0, [[0.0, 1.0], [2.0, 3.0]])\n",
      "-----0-----\n",
      "-----p1-----\n",
      "value 3.0\n",
      "m2 :  [ 3.  0.  0.] 3.0\n",
      "m3 :  (3.0, [[0.0, 0.0], [0.0, 0.0]]) 3.0\n",
      "-----p2-----\n",
      "value [[ 0.  1.]\n",
      " [ 2.  3.]]\n",
      "m2 :  [[[ 0.  1.]\n",
      "  [ 2.  3.]]\n",
      "\n",
      " [[ 0.  0.]\n",
      "  [ 0.  0.]]\n",
      "\n",
      " [[ 0.  0.]\n",
      "  [ 0.  0.]]] [[ 0.  1.]\n",
      " [ 2.  3.]]\n",
      "m3 :  (3.0, [[0.0, 1.0], [2.0, 3.0]]) [[ 0.  1.]\n",
      " [ 2.  3.]]\n",
      "-----1-----\n",
      "-----p1-----\n",
      "value 6.0\n",
      "m2 :  [ 3.  6.  0.] 6.0\n",
      "m3 :  (6.0, [[0.0, 0.0], [0.0, 0.0]]) 6.0\n",
      "-----p2-----\n",
      "value [[ 0.  2.]\n",
      " [ 4.  6.]]\n",
      "m2 :  [[[ 0.  1.]\n",
      "  [ 2.  3.]]\n",
      "\n",
      " [[ 0.  2.]\n",
      "  [ 4.  6.]]\n",
      "\n",
      " [[ 0.  0.]\n",
      "  [ 0.  0.]]] [[ 0.  2.]\n",
      " [ 4.  6.]]\n",
      "m3 :  (6.0, [[0.0, 2.0], [4.0, 6.0]]) [[ 0.  2.]\n",
      " [ 4.  6.]]\n",
      "-----2-----\n",
      "-----p1-----\n",
      "value 9.0\n",
      "m2 :  [ 3.  6.  9.] 9.0\n",
      "m3 :  (9.0, [[0.0, 0.0], [0.0, 0.0]]) 9.0\n",
      "-----p2-----\n",
      "value [[ 0.  3.]\n",
      " [ 6.  9.]]\n",
      "m2 :  [[[ 0.  1.]\n",
      "  [ 2.  3.]]\n",
      "\n",
      " [[ 0.  2.]\n",
      "  [ 4.  6.]]\n",
      "\n",
      " [[ 0.  3.]\n",
      "  [ 6.  9.]]] [[ 0.  3.]\n",
      " [ 6.  9.]]\n",
      "m3 :  (9.0, [[0.0, 3.0], [6.0, 9.0]]) [[ 0.  3.]\n",
      " [ 6.  9.]]\n"
     ]
    }
   ],
   "source": [
    "K = 3\n",
    "m1 = np.empty((), dtype=stype)\n",
    "m1['p1'], m1['p2'] = 3., np.arange(d*d).reshape((d,d))\n",
    "m2 = np.zeros(K, dtype=stype)\n",
    "m3 = np.zeros(K, dtype=stype)\n",
    "\n",
    "print m1\n",
    "for k in range(K):\n",
    "    print \"-\" * 5 + str(k) + \"-\" * 5\n",
    "    for name in stype.names:\n",
    "        print \"-\" * 5 + name + \"-\" * 5\n",
    "        print \"value\", (k+1) * m1[name]\n",
    "        m2[name][k] = (k+1) * m1[name]\n",
    "        m3[k][name] = (k+1) * m1[name]\n",
    "        print \"m2 : \", m2[name], m2[name][k]\n",
    "        print \"m3 : \", m3[k], m3[k][name]"
   ]
  },
  {
   "cell_type": "code",
   "execution_count": null,
   "metadata": {
    "collapsed": true
   },
   "outputs": [],
   "source": []
  }
 ],
 "metadata": {
  "kernelspec": {
   "display_name": "Python 2",
   "language": "python",
   "name": "python2"
  },
  "language_info": {
   "codemirror_mode": {
    "name": "ipython",
    "version": 2
   },
   "file_extension": ".py",
   "mimetype": "text/x-python",
   "name": "python",
   "nbconvert_exporter": "python",
   "pygments_lexer": "ipython2",
   "version": "2.7.12"
  }
 },
 "nbformat": 4,
 "nbformat_minor": 0
}
