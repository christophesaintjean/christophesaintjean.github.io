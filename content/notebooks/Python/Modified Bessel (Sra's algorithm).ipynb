{
 "cells": [
  {
   "cell_type": "markdown",
   "metadata": {},
   "source": [
    "Here is a partial implementation of the paper: <br />\n",
    "\"*A short note on parameter approximation for von Mises-Fisher distributions\n",
    "And a fast implementation of Is(x)*\"<br /> by Suvrit Sra"
   ]
  },
  {
   "cell_type": "code",
   "execution_count": 1,
   "metadata": {},
   "outputs": [],
   "source": [
    "import numpy as np\n",
    "from joblib import Parallel, delayed\n",
    "import itertools as it\n",
    "import matplotlib\n",
    "import matplotlib.pyplot as plt\n",
    "%matplotlib inline\n",
    "\n",
    "from scipy.special import iv as iv_scipy\n",
    "from numpy import pi, power, exp, sqrt\n",
    "from gmpy2 import mpfr, gamma, factorial, const_pi\n",
    "from gmpy2 import exp as gmpexp\n",
    "from gmpy2 import sqrt as gmpsqrt\n",
    "from gmpy2 import get_context\n",
    "\n",
    "get_context().precision = 300"
   ]
  },
  {
   "cell_type": "code",
   "execution_count": 2,
   "metadata": {},
   "outputs": [],
   "source": [
    "def iv_s_paper(s, x, tau):\n",
    "    \"\"\"\n",
    "    Computing Is(x) via truncated power-series (Paper version) \n",
    "    Beware : algorithmic issue !!\n",
    "    \"\"\"\n",
    "    R, t1, t2 = 1., pow(x * exp(1.) / (2 * s), s), \\\n",
    "            1. \\\n",
    "            + 1. / (12 * s) \\\n",
    "            + 1. / (288 * s * s) \\\n",
    "            - 139. / (51840 * s * s * s)\n",
    "    t1 = t1 * sqrt(s / (2 * pi)) / t2\n",
    "    M, k, const_rat = 1. / s, 1, 0.25 * x * x\n",
    "    convergence = False\n",
    "    while not convergence:\n",
    "        R = R * const_rat / (k * (s + k))\n",
    "        M += R\n",
    "        if R / M < tau:\n",
    "            convergence = True\n",
    "        k += 1\n",
    "    return t1 * M"
   ]
  },
  {
   "cell_type": "code",
   "execution_count": 3,
   "metadata": {},
   "outputs": [],
   "source": [
    "def iv_s(s, x, tau):\n",
    "    \"\"\"\n",
    "    Computing Is(x) via truncated power-series (corrected version) \n",
    "    \"\"\"\n",
    "    t1, t2 = pow(x * exp(1.) / (2 * s), s), \\\n",
    "            1. \\\n",
    "            + 1. / (12 * s) \\\n",
    "            + 1. / (288 * s * s) \\\n",
    "            - 139. / (51840 * s * s * s)\n",
    "    t1 *= sqrt(s / (2 * pi)) / t2\n",
    "    k, tk, const_rat = 0, 1. / s, x * x / 4.    \n",
    "    M = tk\n",
    "    convergence = False\n",
    "    while not convergence:\n",
    "        R = const_rat / ((k + 1) * (s + k + 1))\n",
    "        tk *= R\n",
    "        k += 1\n",
    "        M += tk\n",
    "        if tk / M < tau:\n",
    "            convergence = True\n",
    "    return t1 * M"
   ]
  },
  {
   "cell_type": "code",
   "execution_count": 4,
   "metadata": {},
   "outputs": [],
   "source": [
    "def iv_s(s, x, tau):\n",
    "    \"\"\"\n",
    "    Computing Is(x) via truncated power-series (corrected version) \n",
    "    \"\"\"\n",
    "    t1, t2 = power(x * exp(1.) / (2 * s), s), \\\n",
    "            1. \\\n",
    "            + 1. / (12 * s) \\\n",
    "            + 1. / (288 * s * s) \\\n",
    "            - 139. / (51840 * s * s * s)\n",
    "    t1 *= sqrt(s / (2 * pi)) / t2\n",
    "    k, tk, const_rat = 0, 1. / s, x * x / 4.\n",
    "    M = tk\n",
    "    convergence = False\n",
    "    while not convergence:\n",
    "        ratio = const_rat / ((k + 1) * (s + k + 1))\n",
    "        tk *= ratio\n",
    "        M += tk\n",
    "        k += 1\n",
    "        if tk / M < tau:\n",
    "            convergence = True\n",
    "    return t1 * M"
   ]
  },
  {
   "cell_type": "code",
   "execution_count": 5,
   "metadata": {},
   "outputs": [],
   "source": [
    "def iv_s_mpfr(s, x, tau):\n",
    "    s, x = mpfr(s), mpfr(x)\n",
    "    t1 = pow(x * gmpexp(1.) / (2 * s), s)\n",
    "    t2 = 1.+ 1. / (12 * s) + 1. / (288 * s * s) - 139. / (51840 * s * s * s)\n",
    "    t1 = t1 * gmpsqrt(s / (2 * const_pi())) / t2\n",
    "    k, tk, const_rat = 0, 1. / s, x * x / 4\n",
    "    M = tk\n",
    "    convergence = False\n",
    "    while not convergence:\n",
    "        ratio = const_rat / ((k + 1) * (s + k + 1))\n",
    "        tk *= ratio\n",
    "        M += tk\n",
    "        if tk / M < tau:\n",
    "            convergence = True\n",
    "        k += 1\n",
    "    return t1 * M"
   ]
  },
  {
   "cell_type": "code",
   "execution_count": 6,
   "metadata": {},
   "outputs": [],
   "source": [
    "def iv_s_eq7 (s, x, order=100):\n",
    "    s, x = mpfr(s), mpfr(x)\n",
    "    t1 = pow(x / 2, s)\n",
    "    t2 = mpfr(0)\n",
    "    k = 0\n",
    "    t2 = sum(pow(x * x / 4, k) / (gamma(k + s + 1) * factorial(k)) for k in range(order))\n",
    "    return t1 * t2\n",
    "\n",
    "def iv_s_eq8 (s, x, order=100):\n",
    "    s, x = mpfr(s), mpfr(x)\n",
    "    t1 = pow(x / 2, s) / gamma(s)\n",
    "    t2 = mpfr(0)\n",
    "    k = 0\n",
    "    s_prod = s\n",
    "    while k < order:\n",
    "        t2 += pow(x * x / 4, k) / (s_prod * factorial(k))   \n",
    "        k += 1\n",
    "        s_prod *= s + k\n",
    "    return t1 * t2"
   ]
  },
  {
   "cell_type": "markdown",
   "metadata": {},
   "source": [
    "### Verify correctness"
   ]
  },
  {
   "cell_type": "code",
   "execution_count": 7,
   "metadata": {},
   "outputs": [
    {
     "name": "stdout",
     "output_type": "stream",
     "text": [
      "-- 200 -- 200 --\n",
      "Scipy :  4.54005913226e+44\n",
      "paper :  9.08011826453e+46 (incorrect)\n",
      "corrected :  4.54005913226e+44\n",
      "mpfr :  454005913226310037481935257465492164374886624.39266023955544977860899665554178605716207427227\n",
      "eq.7 :  454005913226374027235667681672586819083453158.10614192706230908847297733436578205943888237316\n",
      "eq.8 :  454005913226374027235667681672586819083453158.10614192706230908847297733436578205943888237631\n"
     ]
    }
   ],
   "source": [
    "tau = 1e-16\n",
    "order = 1000\n",
    "s = 200\n",
    "v = 200\n",
    "print ('--', s , '--', v, '--')\n",
    "print ('Scipy : ', iv_scipy(s, v))\n",
    "print ('paper : ', iv_s_paper(s, v, tau), '(incorrect)')\n",
    "print ('corrected : ',iv_s(s, v, tau))\n",
    "print ('mpfr : ',iv_s_mpfr(s, v, tau))\n",
    "print ('eq.7 : ',iv_s_eq7(s, v, order))\n",
    "print ('eq.8 : ',iv_s_eq8(s, v, order))\n",
    "\n",
    "\n"
   ]
  },
  {
   "cell_type": "markdown",
   "metadata": {},
   "source": [
    "### Speed test"
   ]
  },
  {
   "cell_type": "code",
   "execution_count": 8,
   "metadata": {},
   "outputs": [
    {
     "name": "stderr",
     "output_type": "stream",
     "text": [
      "/Users/csaintje/bin/anaconda3/lib/python3.5/site-packages/ipykernel_launcher.py:17: RuntimeWarning: overflow encountered in double_scalars\n",
      "/Users/csaintje/bin/anaconda3/lib/python3.5/site-packages/ipykernel_launcher.py:5: RuntimeWarning: overflow encountered in power\n",
      "  \"\"\"\n",
      "/Users/csaintje/bin/anaconda3/lib/python3.5/site-packages/ipykernel_launcher.py:5: RuntimeWarning: overflow encountered in power\n",
      "  \"\"\"\n"
     ]
    },
    {
     "ename": "KeyboardInterrupt",
     "evalue": "",
     "output_type": "error",
     "traceback": [
      "\u001b[0;31m---------------------------------------------------------------------------\u001b[0m",
      "\u001b[0;31mKeyboardInterrupt\u001b[0m                         Traceback (most recent call last)",
      "\u001b[0;32m<ipython-input-8-022971422e15>\u001b[0m in \u001b[0;36m<module>\u001b[0;34m()\u001b[0m\n\u001b[1;32m      9\u001b[0m \u001b[0;32mfor\u001b[0m \u001b[0ms\u001b[0m \u001b[0;32min\u001b[0m \u001b[0mS\u001b[0m\u001b[0;34m:\u001b[0m\u001b[0;34m\u001b[0m\u001b[0m\n\u001b[1;32m     10\u001b[0m     \u001b[0mt1\u001b[0m \u001b[0;34m=\u001b[0m \u001b[0mget_ipython\u001b[0m\u001b[0;34m(\u001b[0m\u001b[0;34m)\u001b[0m\u001b[0;34m.\u001b[0m\u001b[0mrun_line_magic\u001b[0m\u001b[0;34m(\u001b[0m\u001b[0;34m'timeit'\u001b[0m\u001b[0;34m,\u001b[0m \u001b[0;34m'-oq iv_scipy(s,s)'\u001b[0m\u001b[0;34m)\u001b[0m\u001b[0;34m\u001b[0m\u001b[0m\n\u001b[0;32m---> 11\u001b[0;31m     \u001b[0mt2\u001b[0m \u001b[0;34m=\u001b[0m \u001b[0mget_ipython\u001b[0m\u001b[0;34m(\u001b[0m\u001b[0;34m)\u001b[0m\u001b[0;34m.\u001b[0m\u001b[0mrun_line_magic\u001b[0m\u001b[0;34m(\u001b[0m\u001b[0;34m'timeit'\u001b[0m\u001b[0;34m,\u001b[0m \u001b[0;34m'-oq iv_s(s,s, tau)'\u001b[0m\u001b[0;34m)\u001b[0m\u001b[0;34m\u001b[0m\u001b[0m\n\u001b[0m\u001b[1;32m     12\u001b[0m     \u001b[0mt3\u001b[0m \u001b[0;34m=\u001b[0m \u001b[0mget_ipython\u001b[0m\u001b[0;34m(\u001b[0m\u001b[0;34m)\u001b[0m\u001b[0;34m.\u001b[0m\u001b[0mrun_line_magic\u001b[0m\u001b[0;34m(\u001b[0m\u001b[0;34m'timeit'\u001b[0m\u001b[0;34m,\u001b[0m \u001b[0;34m'-oq iv_s_mpfr(s,s, tau)'\u001b[0m\u001b[0;34m)\u001b[0m\u001b[0;34m\u001b[0m\u001b[0m\n\u001b[1;32m     13\u001b[0m     \u001b[0mt4\u001b[0m \u001b[0;34m=\u001b[0m \u001b[0mget_ipython\u001b[0m\u001b[0;34m(\u001b[0m\u001b[0;34m)\u001b[0m\u001b[0;34m.\u001b[0m\u001b[0mrun_line_magic\u001b[0m\u001b[0;34m(\u001b[0m\u001b[0;34m'timeit'\u001b[0m\u001b[0;34m,\u001b[0m \u001b[0;34m'-oq iv_s_eq7(s,s)'\u001b[0m\u001b[0;34m)\u001b[0m\u001b[0;34m\u001b[0m\u001b[0m\n",
      "\u001b[0;32m~/bin/anaconda3/lib/python3.5/site-packages/IPython/core/interactiveshell.py\u001b[0m in \u001b[0;36mrun_line_magic\u001b[0;34m(self, magic_name, line, _stack_depth)\u001b[0m\n\u001b[1;32m   2093\u001b[0m                 \u001b[0mkwargs\u001b[0m\u001b[0;34m[\u001b[0m\u001b[0;34m'local_ns'\u001b[0m\u001b[0;34m]\u001b[0m \u001b[0;34m=\u001b[0m \u001b[0msys\u001b[0m\u001b[0;34m.\u001b[0m\u001b[0m_getframe\u001b[0m\u001b[0;34m(\u001b[0m\u001b[0mstack_depth\u001b[0m\u001b[0;34m)\u001b[0m\u001b[0;34m.\u001b[0m\u001b[0mf_locals\u001b[0m\u001b[0;34m\u001b[0m\u001b[0m\n\u001b[1;32m   2094\u001b[0m             \u001b[0;32mwith\u001b[0m \u001b[0mself\u001b[0m\u001b[0;34m.\u001b[0m\u001b[0mbuiltin_trap\u001b[0m\u001b[0;34m:\u001b[0m\u001b[0;34m\u001b[0m\u001b[0m\n\u001b[0;32m-> 2095\u001b[0;31m                 \u001b[0mresult\u001b[0m \u001b[0;34m=\u001b[0m \u001b[0mfn\u001b[0m\u001b[0;34m(\u001b[0m\u001b[0;34m*\u001b[0m\u001b[0margs\u001b[0m\u001b[0;34m,\u001b[0m\u001b[0;34m**\u001b[0m\u001b[0mkwargs\u001b[0m\u001b[0;34m)\u001b[0m\u001b[0;34m\u001b[0m\u001b[0m\n\u001b[0m\u001b[1;32m   2096\u001b[0m             \u001b[0;32mreturn\u001b[0m \u001b[0mresult\u001b[0m\u001b[0;34m\u001b[0m\u001b[0m\n\u001b[1;32m   2097\u001b[0m \u001b[0;34m\u001b[0m\u001b[0m\n",
      "\u001b[0;32m<decorator-gen-61>\u001b[0m in \u001b[0;36mtimeit\u001b[0;34m(self, line, cell, local_ns)\u001b[0m\n",
      "\u001b[0;32m~/bin/anaconda3/lib/python3.5/site-packages/IPython/core/magic.py\u001b[0m in \u001b[0;36m<lambda>\u001b[0;34m(f, *a, **k)\u001b[0m\n\u001b[1;32m    185\u001b[0m     \u001b[0;31m# but it's overkill for just that one bit of state.\u001b[0m\u001b[0;34m\u001b[0m\u001b[0;34m\u001b[0m\u001b[0m\n\u001b[1;32m    186\u001b[0m     \u001b[0;32mdef\u001b[0m \u001b[0mmagic_deco\u001b[0m\u001b[0;34m(\u001b[0m\u001b[0marg\u001b[0m\u001b[0;34m)\u001b[0m\u001b[0;34m:\u001b[0m\u001b[0;34m\u001b[0m\u001b[0m\n\u001b[0;32m--> 187\u001b[0;31m         \u001b[0mcall\u001b[0m \u001b[0;34m=\u001b[0m \u001b[0;32mlambda\u001b[0m \u001b[0mf\u001b[0m\u001b[0;34m,\u001b[0m \u001b[0;34m*\u001b[0m\u001b[0ma\u001b[0m\u001b[0;34m,\u001b[0m \u001b[0;34m**\u001b[0m\u001b[0mk\u001b[0m\u001b[0;34m:\u001b[0m \u001b[0mf\u001b[0m\u001b[0;34m(\u001b[0m\u001b[0;34m*\u001b[0m\u001b[0ma\u001b[0m\u001b[0;34m,\u001b[0m \u001b[0;34m**\u001b[0m\u001b[0mk\u001b[0m\u001b[0;34m)\u001b[0m\u001b[0;34m\u001b[0m\u001b[0m\n\u001b[0m\u001b[1;32m    188\u001b[0m \u001b[0;34m\u001b[0m\u001b[0m\n\u001b[1;32m    189\u001b[0m         \u001b[0;32mif\u001b[0m \u001b[0mcallable\u001b[0m\u001b[0;34m(\u001b[0m\u001b[0marg\u001b[0m\u001b[0;34m)\u001b[0m\u001b[0;34m:\u001b[0m\u001b[0;34m\u001b[0m\u001b[0m\n",
      "\u001b[0;32m~/bin/anaconda3/lib/python3.5/site-packages/IPython/core/magics/execution.py\u001b[0m in \u001b[0;36mtimeit\u001b[0;34m(self, line, cell, local_ns)\u001b[0m\n\u001b[1;32m   1096\u001b[0m             \u001b[0;32mfor\u001b[0m \u001b[0mindex\u001b[0m \u001b[0;32min\u001b[0m \u001b[0mrange\u001b[0m\u001b[0;34m(\u001b[0m\u001b[0;36m0\u001b[0m\u001b[0;34m,\u001b[0m \u001b[0;36m10\u001b[0m\u001b[0;34m)\u001b[0m\u001b[0;34m:\u001b[0m\u001b[0;34m\u001b[0m\u001b[0m\n\u001b[1;32m   1097\u001b[0m                 \u001b[0mnumber\u001b[0m \u001b[0;34m=\u001b[0m \u001b[0;36m10\u001b[0m \u001b[0;34m**\u001b[0m \u001b[0mindex\u001b[0m\u001b[0;34m\u001b[0m\u001b[0m\n\u001b[0;32m-> 1098\u001b[0;31m                 \u001b[0mtime_number\u001b[0m \u001b[0;34m=\u001b[0m \u001b[0mtimer\u001b[0m\u001b[0;34m.\u001b[0m\u001b[0mtimeit\u001b[0m\u001b[0;34m(\u001b[0m\u001b[0mnumber\u001b[0m\u001b[0;34m)\u001b[0m\u001b[0;34m\u001b[0m\u001b[0m\n\u001b[0m\u001b[1;32m   1099\u001b[0m                 \u001b[0;32mif\u001b[0m \u001b[0mtime_number\u001b[0m \u001b[0;34m>=\u001b[0m \u001b[0;36m0.2\u001b[0m\u001b[0;34m:\u001b[0m\u001b[0;34m\u001b[0m\u001b[0m\n\u001b[1;32m   1100\u001b[0m                     \u001b[0;32mbreak\u001b[0m\u001b[0;34m\u001b[0m\u001b[0m\n",
      "\u001b[0;32m~/bin/anaconda3/lib/python3.5/site-packages/IPython/core/magics/execution.py\u001b[0m in \u001b[0;36mtimeit\u001b[0;34m(self, number)\u001b[0m\n\u001b[1;32m    158\u001b[0m         \u001b[0mgc\u001b[0m\u001b[0;34m.\u001b[0m\u001b[0mdisable\u001b[0m\u001b[0;34m(\u001b[0m\u001b[0;34m)\u001b[0m\u001b[0;34m\u001b[0m\u001b[0m\n\u001b[1;32m    159\u001b[0m         \u001b[0;32mtry\u001b[0m\u001b[0;34m:\u001b[0m\u001b[0;34m\u001b[0m\u001b[0m\n\u001b[0;32m--> 160\u001b[0;31m             \u001b[0mtiming\u001b[0m \u001b[0;34m=\u001b[0m \u001b[0mself\u001b[0m\u001b[0;34m.\u001b[0m\u001b[0minner\u001b[0m\u001b[0;34m(\u001b[0m\u001b[0mit\u001b[0m\u001b[0;34m,\u001b[0m \u001b[0mself\u001b[0m\u001b[0;34m.\u001b[0m\u001b[0mtimer\u001b[0m\u001b[0;34m)\u001b[0m\u001b[0;34m\u001b[0m\u001b[0m\n\u001b[0m\u001b[1;32m    161\u001b[0m         \u001b[0;32mfinally\u001b[0m\u001b[0;34m:\u001b[0m\u001b[0;34m\u001b[0m\u001b[0m\n\u001b[1;32m    162\u001b[0m             \u001b[0;32mif\u001b[0m \u001b[0mgcold\u001b[0m\u001b[0;34m:\u001b[0m\u001b[0;34m\u001b[0m\u001b[0m\n",
      "\u001b[0;32m<magic-timeit>\u001b[0m in \u001b[0;36minner\u001b[0;34m(_it, _timer)\u001b[0m\n",
      "\u001b[0;32m<ipython-input-4-2cdcae1e2fa9>\u001b[0m in \u001b[0;36miv_s\u001b[0;34m(s, x, tau)\u001b[0m\n\u001b[1;32m      9\u001b[0m     \u001b[0mconvergence\u001b[0m \u001b[0;34m=\u001b[0m \u001b[0;32mFalse\u001b[0m\u001b[0;34m\u001b[0m\u001b[0m\n\u001b[1;32m     10\u001b[0m     \u001b[0;32mwhile\u001b[0m \u001b[0;32mnot\u001b[0m \u001b[0mconvergence\u001b[0m\u001b[0;34m:\u001b[0m\u001b[0;34m\u001b[0m\u001b[0m\n\u001b[0;32m---> 11\u001b[0;31m         \u001b[0mratio\u001b[0m \u001b[0;34m=\u001b[0m \u001b[0mconst_rat\u001b[0m \u001b[0;34m/\u001b[0m \u001b[0;34m(\u001b[0m\u001b[0;34m(\u001b[0m\u001b[0mk\u001b[0m \u001b[0;34m+\u001b[0m \u001b[0;36m1\u001b[0m\u001b[0;34m)\u001b[0m \u001b[0;34m*\u001b[0m \u001b[0;34m(\u001b[0m\u001b[0ms\u001b[0m \u001b[0;34m+\u001b[0m \u001b[0mk\u001b[0m \u001b[0;34m+\u001b[0m \u001b[0;36m1\u001b[0m\u001b[0;34m)\u001b[0m\u001b[0;34m)\u001b[0m\u001b[0;34m\u001b[0m\u001b[0m\n\u001b[0m\u001b[1;32m     12\u001b[0m         \u001b[0mtk\u001b[0m \u001b[0;34m*=\u001b[0m \u001b[0mratio\u001b[0m\u001b[0;34m\u001b[0m\u001b[0m\n\u001b[1;32m     13\u001b[0m         \u001b[0mM\u001b[0m \u001b[0;34m+=\u001b[0m \u001b[0mtk\u001b[0m\u001b[0;34m\u001b[0m\u001b[0m\n",
      "\u001b[0;31mKeyboardInterrupt\u001b[0m: "
     ]
    }
   ],
   "source": [
    "S = [2**i for i in range(1, 16)]\n",
    "\n",
    "t_scipy = []\n",
    "t_s = []\n",
    "t_s_mpfr = []\n",
    "t_s_eq7 = []\n",
    "t_s_eq8 = []\n",
    "\n",
    "for s in S:\n",
    "    t1 = %timeit -oq iv_scipy(s,s)\n",
    "    t2 = %timeit -oq iv_s(s,s, tau)\n",
    "    t3 = %timeit -oq iv_s_mpfr(s,s, tau)\n",
    "    t4 = %timeit -oq iv_s_eq7(s,s)\n",
    "    t5 = %timeit -oq iv_s_eq8(s,s)\n",
    "\n",
    "    t_scipy.append(t1.best)\n",
    "    t_s.append(t2.best)\n",
    "    t_s_mpfr.append(t3.best)\n",
    "    t_s_eq7.append(t4.best)\n",
    "    t_s_eq8.append(t5.best)"
   ]
  },
  {
   "cell_type": "code",
   "execution_count": null,
   "metadata": {},
   "outputs": [],
   "source": [
    "plt.figure(figsize=(25, 25))\n",
    "ax = plt.gca()\n",
    "ax.set_xscale('log')\n",
    "ax.set_yscale('log')\n",
    "matplotlib.rcParams.update({'font.size': 24})\n",
    "plt.plot(S, t_scipy, label ='Scipy')\n",
    "plt.plot(S, t_s, label ='paper')\n",
    "plt.plot(S, t_s_mpfr, label ='mpfr')\n",
    "plt.plot(S, t_s_eq7, label ='eq7')\n",
    "plt.plot(S, t_s_eq8, label ='eq8')\n",
    "plt.legend(shadow=True, fancybox=True, fontsize=24)"
   ]
  },
  {
   "cell_type": "markdown",
   "metadata": {},
   "source": [
    "### Precision test"
   ]
  },
  {
   "cell_type": "code",
   "execution_count": null,
   "metadata": {},
   "outputs": [],
   "source": [
    "S = [2, 22, 222, 2222, 22222]\n",
    "best_tau = 1e-300\n",
    "\n",
    "best = Parallel(n_jobs=8)(delayed(iv_s_mpfr)(s, s, tau=best_tau) for s in S)\n",
    "order_max = 20\n",
    "\n",
    "O = range(order_max)\n",
    "eq7  = Parallel(n_jobs=8)([delayed(iv_s_eq7)(s, s, order) \n",
    "                            for order, s in it.product(O, S)])\n",
    "rel_err = np.array(eq7).reshape(len(O), len(S)) / np.array(best)"
   ]
  },
  {
   "cell_type": "code",
   "execution_count": null,
   "metadata": {},
   "outputs": [],
   "source": [
    "plt.figure(figsize=(25, 25))\n",
    "for s, err in zip(S, rel_err.T):\n",
    "    plt.plot(O, err, label='s = {}'.format(s))\n",
    "plt.legend(shadow=True, fancybox=True, fontsize=24)"
   ]
  }
 ],
 "metadata": {
  "kernelspec": {
   "display_name": "Python 3",
   "language": "python",
   "name": "python3"
  },
  "language_info": {
   "codemirror_mode": {
    "name": "ipython",
    "version": 3
   },
   "file_extension": ".py",
   "mimetype": "text/x-python",
   "name": "python",
   "nbconvert_exporter": "python",
   "pygments_lexer": "ipython3",
   "version": "3.5.4"
  },
  "varInspector": {
   "cols": {
    "lenName": 16,
    "lenType": 16,
    "lenVar": 40
   },
   "kernels_config": {
    "python": {
     "delete_cmd_postfix": "",
     "delete_cmd_prefix": "del ",
     "library": "var_list.py",
     "varRefreshCmd": "print(var_dic_list())"
    },
    "r": {
     "delete_cmd_postfix": ") ",
     "delete_cmd_prefix": "rm(",
     "library": "var_list.r",
     "varRefreshCmd": "cat(var_dic_list()) "
    }
   },
   "types_to_exclude": [
    "module",
    "function",
    "builtin_function_or_method",
    "instance",
    "_Feature"
   ],
   "window_display": false
  },
  "widgets": {
   "state": {},
   "version": "1.1.2"
  }
 },
 "nbformat": 4,
 "nbformat_minor": 1
}
