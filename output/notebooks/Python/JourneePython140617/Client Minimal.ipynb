{
 "cells": [
  {
   "cell_type": "code",
   "execution_count": 1,
   "metadata": {
    "collapsed": true
   },
   "outputs": [],
   "source": [
    "import json\n",
    "from matplotlib.image import imread\n",
    "import numpy as np"
   ]
  },
  {
   "cell_type": "markdown",
   "metadata": {},
   "source": [
    "### Coté Client"
   ]
  },
  {
   "cell_type": "code",
   "execution_count": 2,
   "metadata": {},
   "outputs": [
    {
     "name": "stdout",
     "output_type": "stream",
     "text": [
      "<class 'str'> {\"image\": [[[152, 167, 188], [150, 166, 191], [145, 166, 193\n"
     ]
    }
   ],
   "source": [
    "image_client = imread('images/bateau_drone.jpg')\n",
    "p_boxes_client = [[50, 55, 200, 400], [300, 20, 200, 500]]\n",
    "dict_rep_client = {'image': image_client.tolist(), 'p_boxes' : p_boxes_client}\n",
    "string_rep_client = json.dumps(dict_rep_client)    \n",
    "print(type(string_rep_client), string_rep_client[:60])"
   ]
  },
  {
   "cell_type": "markdown",
   "metadata": {},
   "source": [
    "##  **** **Ici la magie 0-MQ** ****"
   ]
  },
  {
   "cell_type": "markdown",
   "metadata": {},
   "source": [
    "### Coté Serveur"
   ]
  },
  {
   "cell_type": "code",
   "execution_count": 3,
   "metadata": {
    "collapsed": true
   },
   "outputs": [],
   "source": [
    "dict_rep_serveur = json.loads(string_rep_client)\n",
    "image_serveur = np.array(dict_rep_serveur[\"image\"], dtype=np.uint8)\n",
    "p_boxes_serveur = dict_rep_serveur[\"p_boxes\"]"
   ]
  },
  {
   "cell_type": "code",
   "execution_count": 4,
   "metadata": {
    "collapsed": true
   },
   "outputs": [],
   "source": [
    "np.testing.assert_array_equal(image_client, image_serveur)\n",
    "np.testing.assert_array_equal(p_boxes_client, p_boxes_serveur)"
   ]
  },
  {
   "cell_type": "code",
   "execution_count": null,
   "metadata": {
    "collapsed": true
   },
   "outputs": [],
   "source": []
  }
 ],
 "metadata": {
  "kernelspec": {
   "display_name": "Python 3",
   "language": "python",
   "name": "python3"
  },
  "language_info": {
   "codemirror_mode": {
    "name": "ipython",
    "version": 3
   },
   "file_extension": ".py",
   "mimetype": "text/x-python",
   "name": "python",
   "nbconvert_exporter": "python",
   "pygments_lexer": "ipython3",
   "version": "3.5.3"
  }
 },
 "nbformat": 4,
 "nbformat_minor": 2
}
