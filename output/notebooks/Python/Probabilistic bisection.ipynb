{
 "cells": [
  {
   "cell_type": "markdown",
   "metadata": {},
   "source": [
    "# Probabilistic Bisection\n",
    "\n",
    "Experiments from the paper:\n",
    "\n",
    "*ACTIVE LEARNING AND SAMPLING*, Rui Castro and Robert Nowak, chapter 8. 2008."
   ]
  },
  {
   "cell_type": "code",
   "execution_count": 1,
   "metadata": {
    "collapsed": true
   },
   "outputs": [],
   "source": [
    "import numpy as np\n",
    "from scipy.stats import bernoulli\n",
    "import matplotlib.pylab as plt\n",
    "%matplotlib inline"
   ]
  },
  {
   "cell_type": "code",
   "execution_count": 2,
   "metadata": {
    "collapsed": true
   },
   "outputs": [],
   "source": [
    "a, b, n, theta = 0, 1, 30, 0.3"
   ]
  },
  {
   "cell_type": "code",
   "execution_count": 3,
   "metadata": {
    "collapsed": false
   },
   "outputs": [],
   "source": [
    "def f(theta, a, b):\n",
    "    return lambda x: np.piecewise(x, [x<a or x>=theta, x>=a and x<theta], [0, 1])\n",
    "\n",
    "def y(f_t, x, p):\n",
    "    r = bernoulli.rvs(1-p, size=1)[0]\n",
    "    if r==1:\n",
    "        return f_t(x)\n",
    "    return 1-f_t(x)   "
   ]
  },
  {
   "cell_type": "markdown",
   "metadata": {
    "collapsed": true
   },
   "source": [
    "## No noise"
   ]
  },
  {
   "cell_type": "markdown",
   "metadata": {
    "collapsed": true
   },
   "source": [
    "### Uniform grid 1d : Non adaptive sampling"
   ]
  },
  {
   "cell_type": "code",
   "execution_count": 4,
   "metadata": {
    "collapsed": false,
    "scrolled": true
   },
   "outputs": [
    {
     "data": {
      "text/plain": [
       "[-0.2, 1.2, -0.5, 1.5]"
      ]
     },
     "execution_count": 4,
     "metadata": {},
     "output_type": "execute_result"
    },
    {
     "data": {
      "image/png": "[encoded data removed]",
      "text/plain": [
       "<matplotlib.figure.Figure at 0x1103e0dd8>"
      ]
     },
     "metadata": {},
     "output_type": "display_data"
    }
   ],
   "source": [
    "X = np.linspace(a, b, n)\n",
    "\n",
    "p = 0\n",
    "f_t = f(theta, a, b)\n",
    "\n",
    "Y = [y(f_t, x, p) for x in X]\n",
    "plt.plot(X,Y, 'ok')\n",
    "plt.axis([a-0.2, b+0.2, -0.5, 1.5])\n"
   ]
  },
  {
   "cell_type": "markdown",
   "metadata": {},
   "source": [
    "### Uniform grid 1d : Adaptive sampling"
   ]
  },
  {
   "cell_type": "code",
   "execution_count": 5,
   "metadata": {
    "collapsed": true
   },
   "outputs": [],
   "source": [
    "theta_min, theta_max = a, b\n"
   ]
  },
  {
   "cell_type": "markdown",
   "metadata": {
    "collapsed": true
   },
   "source": [
    "## Noise"
   ]
  },
  {
   "cell_type": "markdown",
   "metadata": {
    "collapsed": true
   },
   "source": [
    "### Uniform grid 1d : Non adaptive sampling"
   ]
  },
  {
   "cell_type": "code",
   "execution_count": 6,
   "metadata": {
    "collapsed": false,
    "scrolled": true
   },
   "outputs": [
    {
     "data": {
      "text/plain": [
       "[-0.2, 1.2, -0.5, 1.5]"
      ]
     },
     "execution_count": 6,
     "metadata": {},
     "output_type": "execute_result"
    },
    {
     "data": {
      "image/png": "[encoded data removed]",
      "text/plain": [
       "<matplotlib.figure.Figure at 0x1103e0cf8>"
      ]
     },
     "metadata": {},
     "output_type": "display_data"
    }
   ],
   "source": [
    "X = np.linspace(a, b, n)\n",
    "p = 0.5\n",
    "f_t = f(theta, a, b)\n",
    "\n",
    "Y = [y(f_t, x, p) for x in X]\n",
    "plt.plot(X,Y, 'ok')\n",
    "plt.axis([a-0.2, b+0.2, -0.5, 1.5])\n"
   ]
  },
  {
   "cell_type": "code",
   "execution_count": 9,
   "metadata": {
    "collapsed": false
   },
   "outputs": [
    {
     "data": {
      "text/plain": [
       "[-0.2, 1.2, -0.5, None]"
      ]
     },
     "execution_count": 9,
     "metadata": {},
     "output_type": "execute_result"
    },
    {
     "data": {
      "image/png": "[encoded data removed]",
      "text/plain": [
       "<matplotlib.figure.Figure at 0x1127c2630>"
      ]
     },
     "metadata": {},
     "output_type": "display_data"
    }
   ],
   "source": [
    "def S(X, Y, theta):\n",
    "    S1 = np.sum(yi for xi, yi in zip(X,Y) if xi < theta)\n",
    "    S2 = np.sum(1-yi for xi, yi in zip(X,Y) if xi >= theta)\n",
    "    return S1+S2\n",
    "\n",
    "Theta = np.linspace(a, b, n)\n",
    "S_theta = [S(X, Y, theta) for theta in Theta]\n",
    "plt.plot(Theta,S_theta, 'ok')\n",
    "plt.axis([a-0.2, b+0.2, -0.5, None])"
   ]
  },
  {
   "cell_type": "code",
   "execution_count": null,
   "metadata": {
    "collapsed": true
   },
   "outputs": [],
   "source": []
  }
 ],
 "metadata": {
  "kernelspec": {
   "display_name": "Python 3",
   "language": "python",
   "name": "python3"
  },
  "language_info": {
   "codemirror_mode": {
    "name": "ipython",
    "version": 3
   },
   "file_extension": ".py",
   "mimetype": "text/x-python",
   "name": "python",
   "nbconvert_exporter": "python",
   "pygments_lexer": "ipython3",
   "version": "3.5.2"
  }
 },
 "nbformat": 4,
 "nbformat_minor": 0
}
